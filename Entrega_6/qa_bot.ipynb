{
  "cells": [
    {
      "cell_type": "markdown",
      "metadata": {
        "id": "pfa39F4lsLf3"
      },
      "source": [
        "\n",
        "\n",
        "# Procesamiento de lenguaje natural\n",
        "## LSTM Bot QA"
      ]
    },
    {
      "cell_type": "markdown",
      "metadata": {
        "id": "ZqO0PRcFsPTe"
      },
      "source": [
        "### Datos\n",
        "El objecto es utilizar datos disponibles del challenge ConvAI2 (Conversational Intelligence Challenge 2) de conversaciones en inglés. Se construirá un BOT para responder a preguntas del usuario (QA).\\\n",
        "[LINK](http://convai.io/data/)"
      ]
    },
    {
      "cell_type": "code",
      "execution_count": 1,
      "metadata": {
        "id": "bDFC0I3j9oFD"
      },
      "outputs": [],
      "source": [
        "!pip install --upgrade --no-cache-dir gdown --quiet"
      ]
    },
    {
      "cell_type": "code",
      "execution_count": 2,
      "metadata": {
        "id": "cq3YXak9sGHd"
      },
      "outputs": [],
      "source": [
        "import re\n",
        "\n",
        "import numpy as np\n",
        "import pandas as pd\n",
        "\n",
        "import tensorflow as tf\n",
        "from keras.preprocessing.text import one_hot\n",
        "from tensorflow.keras.utils import pad_sequences, plot_model\n",
        "from keras.models import Sequential\n",
        "from keras.layers import Activation, Dropout, Dense\n",
        "from keras.layers import Flatten, LSTM, SimpleRNN\n",
        "from keras.models import Model\n",
        "from tensorflow.keras.layers import Embedding\n",
        "from sklearn.model_selection import train_test_split\n",
        "from keras.preprocessing.text import Tokenizer\n",
        "from keras.layers import Input"
      ]
    },
    {
      "cell_type": "code",
      "execution_count": 3,
      "metadata": {
        "id": "RHNkUaPp6aYq",
        "colab": {
          "base_uri": "https://localhost:8080/"
        },
        "outputId": "a4c3833e-a7d8-43c3-f9c6-4d4abbb58aaa"
      },
      "outputs": [
        {
          "output_type": "stream",
          "name": "stderr",
          "text": [
            "Downloading...\n",
            "From: https://drive.google.com/uc?id=1awUxYwImF84MIT5-jCaYAPe2QwSgS1hN&export=download\n",
            "To: /content/data_volunteers.json\n",
            "100%|██████████| 2.58M/2.58M [00:00<00:00, 115MB/s]\n"
          ]
        }
      ],
      "source": [
        "# Descargar la carpeta de dataset\n",
        "import os\n",
        "import gdown\n",
        "if os.access('data_volunteers.json', os.F_OK) is False:\n",
        "    url = 'https://drive.google.com/uc?id=1awUxYwImF84MIT5-jCaYAPe2QwSgS1hN&export=download'\n",
        "    output = 'data_volunteers.json'\n",
        "    gdown.download(url, output, quiet=False)\n",
        "else:\n",
        "    print(\"El dataset ya se encuentra descargado\")"
      ]
    },
    {
      "cell_type": "code",
      "execution_count": 4,
      "metadata": {
        "id": "WZy1-wgG-Rp7"
      },
      "outputs": [],
      "source": [
        "# dataset_file\n",
        "import json\n",
        "\n",
        "text_file = \"data_volunteers.json\"\n",
        "with open(text_file) as f:\n",
        "    data = json.load(f) # la variable data será un diccionario"
      ]
    },
    {
      "cell_type": "code",
      "execution_count": 5,
      "metadata": {
        "id": "ue5qd54S-eew",
        "colab": {
          "base_uri": "https://localhost:8080/"
        },
        "outputId": "79bea111-16f2-4f4a-a05b-124c7f0e27f0"
      },
      "outputs": [
        {
          "output_type": "execute_result",
          "data": {
            "text/plain": [
              "dict_keys(['dialog', 'start_time', 'end_time', 'bot_profile', 'user_profile', 'eval_score', 'profile_match', 'participant1_id', 'participant2_id'])"
            ]
          },
          "metadata": {},
          "execution_count": 5
        }
      ],
      "source": [
        "# Observar los campos disponibles en cada linea del dataset\n",
        "data[0].keys()"
      ]
    },
    {
      "cell_type": "code",
      "execution_count": 6,
      "metadata": {
        "id": "jHBRAXPl-3dz",
        "colab": {
          "base_uri": "https://localhost:8080/"
        },
        "outputId": "69374f4c-c3f5-4820-fcfc-e165c440efda"
      },
      "outputs": [
        {
          "output_type": "stream",
          "name": "stdout",
          "text": [
            "Cantidad de rows utilizadas: 6033\n"
          ]
        }
      ],
      "source": [
        "chat_in = []\n",
        "chat_out = []\n",
        "\n",
        "input_sentences = [] # array de texto de entrada\n",
        "output_sentences = [] # array de texto de salida del decoder\n",
        "output_sentences_inputs = [] # array de texto de entrada al decoder\n",
        "max_len = 30\n",
        "\n",
        "def clean_text(txt):\n",
        "    txt = txt.lower()\n",
        "    txt.replace(\"\\'d\", \" had\")\n",
        "    txt.replace(\"\\'s\", \" is\")\n",
        "    txt.replace(\"\\'m\", \" am\")\n",
        "    txt.replace(\"don't\", \"do not\")\n",
        "    txt = re.sub(r'\\W+', ' ', txt)\n",
        "\n",
        "    return txt\n",
        "\n",
        "for line in data:\n",
        "    for i in range(len(line['dialog'])-1):\n",
        "        # vamos separando el texto en \"preguntas\" (chat_in)\n",
        "        # y \"respuestas\" (chat_out)\n",
        "        chat_in = clean_text(line['dialog'][i]['text'])\n",
        "        chat_out = clean_text(line['dialog'][i+1]['text'])\n",
        "\n",
        "        if len(chat_in) >= max_len or len(chat_out) >= max_len:\n",
        "            continue\n",
        "\n",
        "        input_sentence, output = chat_in, chat_out\n",
        "\n",
        "        # output sentence (decoder_output) tiene <eos>\n",
        "        output_sentence = output + ' <eos>' # salida del decoder\n",
        "        # output sentence input (decoder_input) tiene <sos>\n",
        "        output_sentence_input = '<sos> ' + output # entrada del decoder\n",
        "\n",
        "        input_sentences.append(input_sentence)\n",
        "        output_sentences.append(output_sentence)\n",
        "        output_sentences_inputs.append(output_sentence_input)\n",
        "\n",
        "print(\"Cantidad de rows utilizadas:\", len(input_sentences))"
      ]
    },
    {
      "cell_type": "code",
      "execution_count": 7,
      "metadata": {
        "id": "07L1qj8pC_l6",
        "colab": {
          "base_uri": "https://localhost:8080/"
        },
        "outputId": "7883ec69-7b65-4173-b7b7-8cb55293aed5"
      },
      "outputs": [
        {
          "output_type": "execute_result",
          "data": {
            "text/plain": [
              "('hi how are you ', 'not bad and you  <eos>', '<sos> not bad and you ')"
            ]
          },
          "metadata": {},
          "execution_count": 7
        }
      ],
      "source": [
        "input_sentences[1], output_sentences[1], output_sentences_inputs[1]"
      ]
    },
    {
      "cell_type": "markdown",
      "metadata": {
        "id": "8P-ynUNP5xp6"
      },
      "source": [
        "### 2 - Preprocesamiento\n",
        "Realizar el preprocesamiento necesario para obtener:\n",
        "- word2idx_inputs, max_input_len\n",
        "- word2idx_outputs, max_out_len, num_words_output\n",
        "- encoder_input_sequences, decoder_output_sequences, decoder_targets"
      ]
    },
    {
      "cell_type": "code",
      "source": [
        "# Definir el tamaño máximo del vocabulario\n",
        "MAX_VOCAB_SIZE = 8000"
      ],
      "metadata": {
        "id": "SFsUuhYTtXCF"
      },
      "execution_count": 8,
      "outputs": []
    },
    {
      "cell_type": "code",
      "source": [
        "# Tokenizar las palabras con el Tokenizer de Keras\n",
        "# Definir una máxima cantidad de palabras a utilizar:\n",
        "# - num_words --> the maximum number of words to keep, based on word frequency.\n",
        "# - Only the most common num_words-1 words will be kept.\n",
        "from keras.preprocessing.text import Tokenizer\n",
        "\n",
        "# tokenizador de inglés\n",
        "input_tokenizer = Tokenizer(num_words=MAX_VOCAB_SIZE)\n",
        "input_tokenizer.fit_on_texts(input_sentences)\n",
        "input_integer_seq = input_tokenizer.texts_to_sequences(input_sentences)\n",
        "print(input_integer_seq[1])"
      ],
      "metadata": {
        "colab": {
          "base_uri": "https://localhost:8080/"
        },
        "id": "k7tKhTWhtuQS",
        "outputId": "92747f71-ecd7-46cc-ef29-e86713ebd622"
      },
      "execution_count": 9,
      "outputs": [
        {
          "output_type": "stream",
          "name": "stdout",
          "text": [
            "[11, 10, 7, 2]\n"
          ]
        }
      ]
    },
    {
      "cell_type": "code",
      "source": [
        "word2idx_inputs = input_tokenizer.word_index\n",
        "print(\"Palabras en el vocabulario:\", len(word2idx_inputs))"
      ],
      "metadata": {
        "colab": {
          "base_uri": "https://localhost:8080/"
        },
        "id": "hs5DEczsuYs-",
        "outputId": "9246d722-55c1-47c3-ab79-97c7ac202fdc"
      },
      "execution_count": 10,
      "outputs": [
        {
          "output_type": "stream",
          "name": "stdout",
          "text": [
            "Palabras en el vocabulario: 1799\n"
          ]
        }
      ]
    },
    {
      "cell_type": "code",
      "source": [
        "print(word2idx_inputs)"
      ],
      "metadata": {
        "colab": {
          "base_uri": "https://localhost:8080/"
        },
        "id": "_RnQi47MvfzW",
        "outputId": "26959dec-8ed8-43e6-f29a-e4ec0707b001"
      },
      "execution_count": 11,
      "outputs": [
        {
          "output_type": "stream",
          "name": "stdout",
          "text": [
            "{'i': 1, 'you': 2, 'do': 3, 'what': 4, 'a': 5, 'to': 6, 'are': 7, 'for': 8, 'am': 9, 'how': 10, 'hi': 11, 'like': 12, 'living': 13, 'love': 14, 'is': 15, 'have': 16, 'm': 17, 'that': 18, 'hello': 19, 'oh': 20, 'your': 21, 'ok': 22, 'read': 23, 'good': 24, 'yes': 25, 'the': 26, 'it': 27, 'not': 28, 'no': 29, 's': 30, 'any': 31, 'work': 32, 'in': 33, 'u': 34, 'me': 35, 'my': 36, 'about': 37, 'and': 38, 'from': 39, 't': 40, 'of': 41, 'go': 42, 'play': 43, 'today': 44, 'too': 45, 'so': 46, 'don': 47, 'hobbies': 48, 'nice': 49, 'fine': 50, 'name': 51, 'where': 52, 'cool': 53, 'doing': 54, 'there': 55, 'hey': 56, 'know': 57, 'bye': 58, 'see': 59, 'great': 60, 'well': 61, 'favorite': 62, 'sure': 63, 'old': 64, 'games': 65, 'pets': 66, 'why': 67, 'beach': 68, 'sorry': 69, 'at': 70, 'nothing': 71, 'mean': 72, 'lot': 73, 'fun': 74, 'live': 75, 'okay': 76, 'thanks': 77, 'also': 78, 'can': 79, 'student': 80, 'city': 81, 'vegan': 82, 'video': 83, 'girl': 84, 'with': 85, 'yeah': 86, 'just': 87, 'wow': 88, 'tell': 89, 'be': 90, 'job': 91, 'want': 92, 'food': 93, 'r': 94, 'studying': 95, 'music': 96, 'cook': 97, 'color': 98, 'day': 99, 'hear': 100, 'dogs': 101, 'up': 102, 'as': 103, 'study': 104, 'but': 105, 've': 106, 'which': 107, 'or': 108, 'hate': 109, 'really': 110, 'fuck': 111, 'kids': 112, 'say': 113, 'india': 114, 'teacher': 115, 'movies': 116, 'who': 117, 'kind': 118, 'one': 119, 'dog': 120, 'sounds': 121, 'friends': 122, 'will': 123, 'now': 124, 'was': 125, 'books': 126, 'very': 127, 'doctor': 128, 'hii': 129, 'k': 130, 'he': 131, 'eat': 132, 'boy': 133, 'them': 134, 'ya': 135, 'thank': 136, 'going': 137, 'same': 138, 'because': 139, 'ur': 140, 'they': 141, 'blue': 142, 'ohh': 143, 'all': 144, 'ask': 145, 'much': 146, 'im': 147, 'man': 148, 'end': 149, 'store': 150, 'female': 151, 'single': 152, 'ha': 153, 'grocery': 154, 'help': 155, 'only': 156, 'watch': 157, 'sex': 158, 'teach': 159, 'many': 160, 'cali': 161, 'lol': 162, 'got': 163, 'talk': 164, 'school': 165, 'n': 166, 'did': 167, 'coffee': 168, 'send': 169, 'time': 170, 'then': 171, 'said': 172, 'gym': 173, 'this': 174, 'hope': 175, 'think': 176, 'swim': 177, 'married': 178, 'make': 179, 'meet': 180, 'else': 181, 'night': 182, 'on': 183, 'pizza': 184, 'thing': 185, 'never': 186, 'book': 187, 'funny': 188, 'cats': 189, 'new': 190, 'enjoy': 191, 'number': 192, 'bro': 193, 'cat': 194, 'she': 195, 'an': 196, 'movie': 197, 'drink': 198, 'game': 199, 'we': 200, 'hmm': 201, 'big': 202, 'talking': 203, 'speak': 204, 'best': 205, 'later': 206, 'years': 207, 'right': 208, 'retired': 209, 'kill': 210, 'means': 211, 'girls': 212, 'get': 213, 'year': 214, 'yours': 215, 'would': 216, 'asking': 217, 'favourite': 218, 'off': 219, 'red': 220, 'math': 221, 'major': 222, 'army': 223, 'soon': 224, 'whats': 225, 'yourself': 226, 'understand': 227, 'interesting': 228, 'chat': 229, 'family': 230, 'fan': 231, 'two': 232, 'here': 233, 'dont': 234, 'sleep': 235, 'mine': 236, 'cricket': 237, 'need': 238, 'happened': 239, 'travel': 240, 'some': 241, 'please': 242, 'united': 243, 'states': 244, 'gay': 245, 'car': 246, 'yo': 247, 'woman': 248, 'thats': 249, 'hindi': 250, '32': 251, 'pet': 252, 'nurse': 253, 'haha': 254, 'bad': 255, '2': 256, 'singer': 257, 'call': 258, 'had': 259, 'okk': 260, 'delhi': 261, 'something': 262, 'age': 263, 'reading': 264, 'dance': 265, 'named': 266, 'were': 267, 'guess': 268, 'already': 269, 'cars': 270, 're': 271, 'grade': 272, 'three': 273, 'country': 274, 'band': 275, 'english': 276, 'things': 277, 'idea': 278, 'll': 279, 'science': 280, 'been': 281, 'children': 282, 'tacos': 283, 'us': 284, 'more': 285, 'football': 286, 'purple': 287, '12': 288, 'eyes': 289, 'bot': 290, 'mexican': 291, 'come': 292, 'told': 293, 'drive': 294, 'male': 295, 'always': 296, 'parents': 297, 'horses': 298, 'life': 299, 'start': 300, 'subject': 301, 'business': 302, 'question': 303, 'playing': 304, 'robot': 305, 'o': 306, 'iam': 307, 'hobby': 308, 'sir': 309, 'own': 310, 'amazing': 311, 'chatting': 312, 'gud': 313, 'looking': 314, 'plz': 315, 'when': 316, 'give': 317, 'bees': 318, 'yea': 319, 'disney': 320, 'listen': 321, '30': 322, 'restaurant': 323, 'clowns': 324, 'green': 325, 'fucking': 326, 'gender': 327, 'sing': 328, 'librarian': 329, 'does': 330, 'song': 331, 'black': 332, 'cute': 333, 'joke': 334, 'learn': 335, 'by': 336, 'beautiful': 337, 'winter': 338, 'use': 339, 'try': 340, 'friend': 341, 'home': 342, 'hiii': 343, 'sell': 344, 'kk': 345, 'hlw': 346, 'photo': 347, '18': 348, 'her': 349, 'either': 350, 'soccer': 351, 'ooo': 352, 'engineer': 353, 'hair': 354, 'its': 355, 'mother': 356, 'indian': 357, 'maybe': 358, 'working': 359, 'russia': 360, 'horror': 361, 'team': 362, 'riverside': 363, 'fly': 364, 'awesome': 365, 'though': 366, 'every': 367, 'pobox': 368, 'soda': 369, 'boyfriend': 370, 'smart': 371, 'story': 372, 'yellow': 373, 'seen': 374, '3': 375, 'farmer': 376, 'sometimes': 377, 'being': 378, 'happy': 379, 'won': 380, 'hard': 381, 'grow': 382, 'run': 383, 'german': 384, 'york': 385, 'harry': 386, 'potter': 387, 'facebook': 388, 'navy': 389, 'person': 390, '25': 391, 'first': 392, 'hai': 393, 'hlo': 394, 'nd': 395, 'suck': 396, 'those': 397, 'wrong': 398, 'class': 399, '20': 400, 'hahaha': 401, 'eating': 402, 'both': 403, 'pic': 404, 'wait': 405, 'bout': 406, 'crazy': 407, 'show': 408, 'walking': 409, 'sports': 410, 'lucy': 411, 'yaa': 412, 'wassup': 413, '19': 414, 'ohhh': 415, 'anything': 416, 'metal': 417, 'id': 418, 'partner': 419, 'singing': 420, 'father': 421, 'farm': 422, 'genre': 423, 'thx': 424, 'anytime': 425, '33': 426, 'high': 427, 'let': 428, 'problem': 429, 'could': 430, 'didn': 431, 'songs': 432, '17': 433, 'radar': 434, 'burgers': 435, 'kinds': 436, 'place': 437, 'sport': 438, 'stupid': 439, 'lover': 440, 'shopping': 441, 'boring': 442, 'watches': 443, 'twitch': 444, 'beer': 445, 'alcoholic': 446, 'v': 447, 'believe': 448, 'cooking': 449, 'conversation': 450, 'fast': 451, 'lost': 452, 'back': 453, 'fix': 454, 'p': 455, 'saying': 456, 'bored': 457, 'waitress': 458, 'brown': 459, 'aren': 460, 'over': 461, 'mostly': 462, 'languages': 463, 'chef': 464, 'part': 465, 'leave': 466, 'alone': 467, 'everything': 468, 'answer': 469, 'brother': 470, 'respect': 471, 'women': 472, 'honda': 473, 'civic': 474, 'star': 475, 'wars': 476, 'grey': 477, 'money': 478, 'house': 479, 'long': 480, 'alaska': 481, 'take': 482, 'fn': 483, 'teek': 484, 'kaam': 485, 'haa': 486, 'brat': 487, 'dick': 488, 'guitar': 489, 'die': 490, 'appreciate': 491, 'btw': 492, 'language': 493, 'bank': 494, 'type': 495, 'wtf': 496, 'gf': 497, 'college': 498, 'breathing': 499, 'y': 500, 'even': 501, '21': 502, 'neither': 503, 'mom': 504, 'watching': 505, 'ohhk': 506, 'goes': 507, '5': 508, 'vacation': 509, 'hyy': 510, 'taking': 511, 'basketball': 512, 'bake': 513, 'john': 514, 'bba': 515, 'comedian': 516, 'meat': 517, 'healthy': 518, 'heart': 519, 'bike': 520, 'shop': 521, 'shows': 522, 'ride': 523, 'chinese': 524, 'orange': 525, 'helo': 526, 'pretty': 527, 'dear': 528, 'b': 529, 'com': 530, 'marketing': 531, 'jobs': 532, 'god': 533, 'beatles': 534, 'mad': 535, 'count': 536, 'biriyani': 537, 'social': 538, '22': 539, 'hahn': 540, 'pubg': 541, 'hurt': 542, 'punjabi': 543, 'yess': 544, 'd': 545, '35': 546, 'california': 547, 'wearing': 548, 'hat': 549, 'wonderful': 550, 'musician': 551, 'most': 552, 'should': 553, 'developer': 554, 'drum': 555, '4': 556, 'sky': 557, 'still': 558, 'quit': 559, '10': 560, 'few': 561, '14': 562, 'retail': 563, 'goodbye': 564, 'used': 565, 'died': 566, 'occupation': 567, 'ever': 568, 'played': 569, 'if': 570, 'north': 571, 'carolina': 572, 'favorites': 573, 'italian': 574, 'peanuts': 575, 'peanut': 576, 'allergy': 577, 'bf': 578, 'swimming': 579, 'tonight': 580, 'deal': 581, 'vodka': 582, 'fish': 583, 'helloz': 584, 'done': 585, 'bbye': 586, 'finish': 587, 'idk': 588, 'papayas': 589, 'dumb': 590, 'spanish': 591, 'before': 592, 'bit': 593, 'hiking': 594, 'five': 595, 'sons': 596, 'rock': 597, 'okey': 598, 'alright': 599, 'students': 600, 'damn': 601, 'feel': 602, 'usa': 603, 'small': 604, 'boston': 605, 'went': 606, 'sexy': 607, 'ass': 608, 'papaya': 609, 'hummus': 610, 'wine': 611, 'x': 612, 'killed': 613, 'trump': 614, 'market': 615, 'actually': 616, 'feminist': 617, 'jokes': 618, 'rap': 619, 'friday': 620, 'tiger': 621, 'michael': 622, 'larry': 623, 'ma': 624, 'horse': 625, 'vet': 626, 'drugs': 627, 'asked': 628, 'world': 629, 'correct': 630, 'happen': 631, 'west': 632, 'kkk': 633, 'breath': 634, 'topic': 635, 'struggle': 636, 'works': 637, 'phone': 638, 'message': 639, 'olakka': 640, 'hu': 641, 'karogi': 642, 'nursing': 643, 'choice': 644, 'chess': 645, 'meaning': 646, 'girlfriend': 647, 'may': 648, 'urs': 649, 'nissan': 650, 'sentry': 651, 'yoga': 652, 'thrillers': 653, 'ho': 654, 'ahe': 655, 'nhi': 656, 'ka': 657, 'such': 658, 'our': 659, 'christ': 660, 'makes': 661, 'sense': 662, 'shit': 663, 'noo': 664, 'win': 665, 'pornstar': 666, 'exam': 667, 'tv': 668, 'hy': 669, 'oho': 670, 'ah': 671, 'enjoying': 672, 'byee': 673, 'gn': 674, 'suffering': 675, 'bee': 676, 'supermarket': 677, 'huski': 678, 'prefer': 679, 'around': 680, 'yah': 681, 'engineering': 682, 'woww': 683, 'real': 684, 'surat': 685, 'dinner': 686, 'resume': 687, 'present': 688, 'pg': 689, 'hm': 690, '26': 691, 'young': 692, 'stop': 693, 'imagine': 694, 'management': 695, 'pink': 696, 'form': 697, 'wish': 698, 'taylor': 699, 'key': 700, 'alive': 701, 'morning': 702, 'human': 703, 'hospital': 704, 'changing': 705, 'reply': 706, 'begin': 707, 'electric': 708, 'super': 709, 'whts': 710, 'pursuing': 711, '80': 712, 'poor': 713, 'again': 714, 'serve': 715, 'nyc': 716, 'craft': 717, 'bt': 718, 'pls': 719, 'speaking': 720, 'guns': 721, 'cork': 722, 'bc': 723, 'ready': 724, 'waiting': 725, 'feeling': 726, 'busy': 727, 'animal': 728, 'attend': 729, 'foods': 730, 'debt': 731, 'degree': 732, 'breed': 733, 'find': 734, 'baby': 735, 'nope': 736, 'fucker': 737, 'wbu': 738, 'fyn': 739, 'questions': 740, 'ohk': 741, 'espn': 742, 'hell': 743, 'media': 744, 'myself': 745, 'tamil': 746, 'french': 747, 'thumbs': 748, 'born': 749, 'europe': 750, 'iq': 751, 'short': 752, 'maintenance': 753, 'pardon': 754, 'famous': 755, 'buddy': 756, 'kid': 757, 'above': 758, 'hahah': 759, 'toku': 760, 'burger': 761, 'little': 762, 'sry': 763, 'etc': 764, 'evening': 765, 'c': 766, 'him': 767, 'yup': 768, 'ooh': 769, 'bal': 770, 'gas': 771, 'station': 772, 'marry': 773, 'haven': 774, 'ny': 775, 'inter': 776, '2nd': 777, 'france': 778, 'pub': 779, 'mumbai': 780, 'mi': 781, 'np': 782, 'relationship': 783, 'electrician': 784, 'ping': 785, 'pong': 786, 'f9': 787, 'sumit': 788, 'fb': 789, 'state': 790, 'tree': 791, 'made': 792, 'wife': 793, 'dish': 794, 'sci': 795, 'his': 796, 'eaten': 797, 'shoes': 798, 'follow': 799, 'purpose': 800, 'noodles': 801, 'lovely': 802, 'nyt': 803, 'mary': 804, 'pool': 805, 'lucille': 806, 'steve': 807, 'mee': 808, 'dolgoprudny': 809, 'organ': 810, 'hyperion': 811, 'thriller': 812, 'buy': 813, 'cancer': 814, 'software': 815, 'whanna': 816, 'base': 817, 'spartak': 818, 'hooligan': 819, 'leila': 820, '36': 821, 'possible': 822, 'comic': 823, 'instantly': 824, 'build': 825, 'houses': 826, 'creampie': 827, 'together': 828, 'plans': 829, 'mans': 830, 'sweety': 831, 'sara': 832, 'collies': 833, 'minor': 834, 'engeneer': 835, 'dig': 836, 'introduce': 837, 'supportive': 838, 'medication': 839, 'meditation': 840, 'overworked': 841, 'mickey': 842, 'mouse': 843, 'contacts': 844, 'names': 845, 'vegetarian': 846, 'apologise': 847, 'parent': 848, 'readings': 849, 'resturant': 850, 'pity': 851, 'sea': 852, 'pupil': 853, 'cloud': 854, '24': 855, 'twelve': 856, 'deadpool': 857, 'cannot': 858, 'wher': 859, 'ohio': 860, 'margarita': 861, 'putin': 862, 'honor': 863, 'sad': 864, 'hatiko': 865, 'twenties': 866, 'fashioned': 867, 'prius': 868, 'nah': 869, 'programmer': 870, 'mind': 871, 'dude': 872, 'parties': 873, 'bleat': 874, 'realy': 875, 'ou': 876, 'true': 877, 'came': 878, 'clients': 879, 'created': 880, 'artist': 881, 'scarlett': 882, 'johanson': 883, '40k': 884, 'gavorite': 885, 'divorced': 886, 'husband': 887, 'heloo': 888, 'intelligent': 889, 'block': 890, 'donyou': 891, 'humans': 892, 'teste': 893, 'online': 894, 'coloring': 895, 'eh': 896, 'paint': 897, 'portrets': 898, 'definetely': 899, 'monster': 900, 'definitely': 901, 'dearly': 902, 'moving': 903, 'trauma': 904, 'surgeon': 905, 'course': 906, 'tou': 907, 'seems': 908, 'dinno': 909, 'matter': 910, 'bigen': 911, 'better': 912, 'called': 913, 'avatar': 914, 'fishing': 915, 'halo': 916, 'mmm': 917, 'yep': 918, 'latin': 919, 'american': 920, 'literature': 921, 'doctro': 922, 'local': 923, 'late': 924, 'obviously': 925, 'birds': 926, 'wise': 927, 'julie': 928, 'roll': 929, 'jib': 930, 'fantasy': 931, 'folk': 932, 'irregularly': 933, 'golden': 934, 'retriever': 935, 'isn': 936, 'offensive': 937, 'response': 938, 'howdy': 939, 'stranger': 940, 'siblings': 941, 'ciao': 942, 'bonjour': 943, 'mon': 944, 'ami': 945, 'contour': 946, 'chatbot': 947, 'testing': 948, 'deliver': 949, 'cheated': 950, 'horrible': 951, 'recently': 952, 'insurance': 953, 'grew': 954, 'south': 955, '41': 956, 'seriously': 957, 'art': 958, 'chicago': 959, 'running': 960, 'dublin': 961, 'bought': 962, 'condo': 963, 'rolling': 964, 'stones': 965, 'zzzz': 966, 'ups': 967, 'machiavellian': 968, 'niggas': 969, 'silent': 970, 'enought': 971, 'heeeeeeey': 972, 'bi': 973, 'rarely': 974, 'yoy': 975, 'fortnite': 976, 'fallen': 977, 'trafficer': 978, 'transgender': 979, 'jonny': 980, 'depp': 981, 'ford': 982, 'mustangs': 983, 'fair': 984, 'enough': 985, 'agree': 986, 'role': 987, 'religion': 988, 'sister': 989, 'direction': 990, 'sick': 991, 'attitude': 992, 'isis': 993, 'plant': 994, 'bombs': 995, 'motorbike': 996, 'femenist': 997, 'lgbt': 998, 'leningrad': 999, 'cellphones': 1000, 'tough': 1001, 'tesla': 1002, 'lawyer': 1003, 'pain': 1004, 'someone': 1005, 'rubber': 1006, 'lab': 1007, 'eba': 1008, 'sup': 1009, 'supsupsup': 1010, 'arm': 1011, 'kek': 1012, 'meth': 1013, 'vagina': 1014, 'kekekek': 1015, 'bots': 1016, 'pidor': 1017, 'sun': 1018, 'belgia': 1019, 'fire': 1020, 'producer': 1021, 'sand': 1022, 'castles': 1023, 'nevermind': 1024, 'depends': 1025, 'florida': 1026, 'watermelon': 1027, 'complain': 1028, 'release': 1029, 'change': 1030, 'salary': 1031, 'shopkeeper': 1032, 'dancer': 1033, 'keypad': 1034, '1': 1035, 'messenger': 1036, 'urgent': 1037, 'mail': 1038, 'yas': 1039, 'honey': 1040, 'bedroom': 1041, 'lime': 1042, 'puzhingi': 1043, 'thinno': 1044, 'weed': 1045, 'samosa': 1046, 'pajama': 1047, 'khol': 1048, 'phir': 1049, 'smoking': 1050, 'nem': 1051, 'apka': 1052, 'nama': 1053, 'kia': 1054, 'aacha': 1055, 'khuch': 1056, 'nahi': 1057, 'ajay': 1058, 'plzzz': 1059, 'hobbie': 1060, 'bathroom': 1061, 'foot': 1062, 'ball': 1063, 'studding': 1064, 'law': 1065, 'forgive': 1066, 'shoe': 1067, 'retrievers': 1068, 'entail': 1069, 'into': 1070, 'dating': 1071, 'penny': 1072, 'hifi': 1073, 'achaa': 1074, 'yum': 1075, 'charlie': 1076, 'boxer': 1077, 'belongs': 1078, 'fuckinh': 1079, 'owner': 1080, 'relative': 1081, 'factory': 1082, 'pa': 1083, 'hilly': 1084, 'places': 1085, 'kiska': 1086, 'mature': 1087, 'playboy': 1088, 'ladies': 1089, 'hatchback': 1090, 'guitaring': 1091, 'classes': 1092, 'biographies': 1093, 'stick': 1094, 'racer': 1095, 'bola': 1096, 'shikat': 1097, 'sadya': 1098, 'ky': 1099, 'smjl': 1100, 'tumch': 1101, 'maz': 1102, 's2u': 1103, 'third': 1104, 'muslim': 1105, 'president': 1106, 'inspiring': 1107, 'profession': 1108, 'ngt': 1109, 'bunny': 1110, 'temple': 1111, 'banchod': 1112, 'mohela': 1113, 'gand': 1114, 'maara': 1115, 'shemale': 1116, 'needn': 1117, 'spiritual': 1118, 'without': 1119, '8th': 1120, 'tru': 1121, 'lesbian': 1122, 'strangers': 1123, 'pregnant': 1124, 'yohr': 1125, 'madarchod': 1126, 'cómo': 1127, 'estás': 1128, 'amigo': 1129, 'congratulations': 1130, 'journey': 1131, 'cold': 1132, 'byy': 1133, 'churches': 1134, 'silence': 1135, 'relax': 1136, 'backpropagating': 1137, 'errors': 1138, 'ranjan': 1139, 'frm': 1140, 'earlier': 1141, 'courier': 1142, 'offive': 1143, 'anyone': 1144, 'gen': 1145, 'depending': 1146, 'sleeping': 1147, 'joking': 1148, 'dharmik': 1149, 'graphic': 1150, 'designer': 1151, 'gril': 1152, 'robotics': 1153, 'porn': 1154, 'hollywood': 1155, 'moy': 1156, 'air': 1157, 'tq': 1158, 'hoo': 1159, 'practice': 1160, 'presently': 1161, 'btech': 1162, 'aw': 1163, 'currently': 1164, 'nthg': 1165, 'brinjal': 1166, 'roses': 1167, 'jasmine': 1168, 'relaxing': 1169, 'happiness': 1170, 'thankyou': 1171, 'fuking': 1172, 'asm': 1173, 'nancy': 1174, 'roo': 1175, 'ahh': 1176, 'oo': 1177, 'gm': 1178, 'poker': 1179, 'emd': 1180, 'jai': 1181, 'kata': 1182, 'di': 1183, 'thnk': 1184, 'beth': 1185, 'ol': 1186, 'yeeee': 1187, 'license': 1188, 'ufc': 1189, 'engit': 1190, 'modified': 1191, 'increase': 1192, 'efficiency': 1193, 'design': 1194, 'app': 1195, 'h': 1196, 'people': 1197, 'hbu': 1198, 'costomer': 1199, 'services': 1200, 'easy': 1201, 'continue': 1202, 'unemployment': 1203, 'hom': 1204, 'lucknow': 1205, 'production': 1206, 'clash': 1207, 'clan': 1208, 'firstly': 1209, 'searching': 1210, 'okkk': 1211, 'byyy': 1212, 'hel': 1213, 'housekeeper': 1214, 'ooooooooh': 1215, 'ones': 1216, 'hairdresser': 1217, 'huge': 1218, 'lovee': 1219, 'issue': 1220, 'goo': 1221, 'far': 1222, 'eleectrian': 1223, 'employed': 1224, 'vocapation': 1225, 'noumber': 1226, 'hlooo': 1227, 'haii': 1228, 'prem': 1229, 'ne': 1230, 'mountains': 1231, 'pahadi': 1232, 'achoo': 1233, 'harshit': 1234, 'date': 1235, 'uttrakand': 1236, 'haridwar': 1237, 'surgery': 1238, 'hola': 1239, 'ranchi': 1240, 'dd': 1241, 'cindition': 1242, 'vegetables': 1243, 'bitch': 1244, 'sewing': 1245, 'choose': 1246, 'shivu': 1247, 'piano': 1248, 'answering': 1249, 'bunnies': 1250, 'laugh': 1251, 'alcoholics': 1252, 'più': 1253, 'meno': 1254, 'motoria': 1255, 'sunbath': 1256, 'drawing': 1257, 'unicorns': 1258, 'russian': 1259, 'rassist': 1260, 'stuped': 1261, 'ufa': 1262, 'ere': 1263, 'wargames': 1264, 'nation': 1265, 'persuing': 1266, 'graduation': 1267, 'rice': 1268, 'ks': 1269, 'hollydays': 1270, 'fitness': 1271, 'taste': 1272, 'fried': 1273, 'baked': 1274, 'rural': 1275, 'area': 1276, 'preety': 1277, 'mma': 1278, 'fight': 1279, 'haryana': 1280, 'reside': 1281, 'wok': 1282, 'del': 1283, 'taco': 1284, 'perr': 1285, 'seperated': 1286, 'separated': 1287, 'programme': 1288, 'rocking': 1289, 'service': 1290, 'okie': 1291, '13': 1292, 'loves': 1293, 'keep': 1294, 'park': 1295, 'truth': 1296, 'sales': 1297, 'millions': 1298, 'diamond': 1299, 'tattoos': 1300, '6': 1301, 'leaving': 1302, 'meeting': 1303, 'chal': 1304, 'bhhag': 1305, 'waiteress': 1306, 'dat': 1307, '4m': 1308, 'antakshri': 1309, 'listening': 1310, 'tables': 1311, 'free': 1312, 'forward': 1313, 'ty': 1314, 'ive': 1315, '27': 1316, 'redhead': 1317, 'outside': 1318, 'coach': 1319, 'networking': 1320, 'magical': 1321, 'capital': 1322, 'paharganj': 1323, 'majoring': 1324, 'hunt': 1325, 'delivery': 1326, 'near': 1327, 'met': 1328, 'ntg': 1329, 'cultural': 1330, 'zen': 1331, 'angela': 1332, 'luck': 1333, 'yono': 1334, 'yeaa': 1335, 'meeto': 1336, 'result': 1337, 'yeaaa': 1338, 'hav': 1339, 'bachelor': 1340, 'completed': 1341, 'labrador': 1342, 'topics': 1343, 'urdu': 1344, 'several': 1345, 'contact': 1346, 'picture': 1347, 'welcome': 1348, 'nor': 1349, 'challenge': 1350, 'days': 1351, 'connection': 1352, 'idiot': 1353, 'nowas': 1354, 'hie': 1355, 'meditate': 1356, 'wat': 1357, 'trainer': 1358, 'oookkk': 1359, 'chip': 1360, 'bcom': 1361, 'pharmacy': 1362, 'q': 1363, '46': 1364, 'e': 1365, 'mc2': 1366, 'patna': 1367, 'freeze': 1368, 'conditions': 1369, 'despasito': 1370, 'oohh': 1371, 'lawyers': 1372, 'choreography': 1373, 'kgkdusu': 1374, 'permanent': 1375, 'chl': 1376, 'sala': 1377, 'full': 1378, 'dukan': 1379, 'jara': 1380, 'biryani': 1381, 'banana': 1382, 'pork': 1383, 'haraam': 1384, 'kyu': 1385, 'bunty': 1386, 'bhai': 1387, 'lion': 1388, 'fail': 1389, 'taught': 1390, 'lionel': 1391, 'messi': 1392, 'ronaldo': 1393, 'getlost': 1394, 'disturbance': 1395, 'animaos': 1396, 'poady': 1397, 'kalanjitt': 1398, 'podey': 1399, 'onn': 1400, 'board': 1401, 'moscow': 1402, 'alwar': 1403, 'rajasthan': 1404, 'sarah': 1405, 'banking': 1406, 'nepal': 1407, 'geard': 1408, 'neapl': 1409, 'yet': 1410, 'tamio': 1411, 'bihar': 1412, 'unknown': 1413, 'erm': 1414, 'space': 1415, 'barbies': 1416, 'graduate': 1417, 'psychology': 1418, '8': 1419, 'test': 1420, 'check': 1421, 'level': 1422, 'clothes': 1423, 'stylish': 1424, 'skirts': 1425, 'self': 1426, 'pari': 1427, 'traveling': 1428, 'public': 1429, 'tes': 1430, 'thrones': 1431, 'boobes': 1432, 'hairs': 1433, 'chest': 1434, 'leg': 1435, 'jock': 1436, 'sucks': 1437, 'massage': 1438, 'goof': 1439, 'agra': 1440, 'retirement': 1441, 'waiter': 1442, 'ghanta': 1443, 'fancy': 1444, 'chuttiyq': 1445, 'jus': 1446, '11': 1447, 'mentioned': 1448, 'text': 1449, 'conversion': 1450, 'watchin': 1451, 'videos': 1452, 'belong': 1453, 'punjab': 1454, 'unarried': 1455, 'unmarried': 1456, 'iove': 1457, 'beautyfull': 1458, 'history': 1459, 'schezwan': 1460, 'martein': 1461, 'hungry': 1462, 'forest': 1463, 'amazon': 1464, 'relaxed': 1465, 'fickle': 1466, 'offo': 1467, 'gaya': 1468, 'sweet': 1469, 'dreams': 1470, 'udaipur': 1471, 'crush': 1472, 'gob': 1473, 'word': 1474, 'search': 1475, 'slow': 1476, 'minute': 1477, 'necessary': 1478, 'value': 1479, 'ltd': 1480, 'hole': 1481, 'dud': 1482, 'expensive': 1483, 'orly': 1484, 'extra': 1485, 'compliment': 1486, 'fatafati': 1487, 'yyrr': 1488, 'hahahaha': 1489, 'poetry': 1490, 'way': 1491, 'whatever': 1492, 'security': 1493, 'computer': 1494, 'travis': 1495, 'add': 1496, 'basic': 1497, 'death': 1498, 'g': 1499, 'plzz': 1500, 'ocean': 1501, 'streamer': 1502, 'magic': 1503, 'patronus': 1504, 'ron': 1505, 'hubby': 1506, 'umm': 1507, 'commerce': 1508, 'tf': 1509, 'saw': 1510, 'move': 1511, 'miscommunicated': 1512, 'robots': 1513, 'shut': 1514, 'gtfo': 1515, 'bhilai': 1516, 'fav': 1517, 'ohky': 1518, 'wt': 1519, 'china': 1520, 'म': 1521, 'भ': 1522, 'रत': 1523, 'स': 1524, 'ह': 1525, 'volleyball': 1526, 'defender': 1527, 'visit': 1528, 'ted': 1529, 'jane': 1530, 'twenty': 1531, 'office': 1532, 'kalpesh': 1533, 'white': 1534, 'photographer': 1535, 'sock': 1536, 'instrument': 1537, 'dum': 1538, 'purchase': 1539, 'vegetable': 1540, 'shoot': 1541, 'knife': 1542, 'watts': 1543, 'sambhu': 1544, 'officially': 1545, 'sundegarh': 1546, 'next': 1547, 'pta': 1548, 'eng': 1549, 'painful': 1550, 'melon': 1551, 'fever': 1552, 'george': 1553, 'education': 1554, 'alot': 1555, 'pinch': 1556, 'chocolate': 1557, 'regularly': 1558, 'kolakluru': 1559, 'veg': 1560, 'aaa': 1561, 'foody': 1562, 'ski': 1563, 'plumber': 1564, 'interior': 1565, 'designing': 1566, 'chicks': 1567, 'wwwowww': 1568, 'weekend': 1569, 'hloo': 1570, 'marathon': 1571, 'po': 1572, 'myre': 1573, 'normal': 1574, 'four': 1575, 'uh': 1576, 'private': 1577, 'britney': 1578, 'spears': 1579, 'ca': 1580, 'ga': 1581, 'triumph': 1582, 'oxygen': 1583, 'chasing': 1584, 'kimono': 1585, 'lizards': 1586, 'lazy': 1587, 'lazzzy': 1588, 'early': 1589, 'head': 1590, 'bed': 1591, 'pk': 1592, 'skateboarder': 1593, 'android': 1594, 'anywhere': 1595, 'kindergarten': 1596, 'garden': 1597, 'mango': 1598, 'summer': 1599, 'sanju': 1600, 'ai': 1601, 'system': 1602, 'toaster': 1603, 'hoe': 1604, 'concentrate': 1605, 'cakes': 1606, 'unfortunate': 1607, 'inception': 1608, 'godfather': 1609, 'crafting': 1610, 'beg': 1611, 'm9re': 1612, 'violin': 1613, 'messed': 1614, 'son': 1615, 'adam': 1616, 'alabama': 1617, 'anushka': 1618, 'recovering': 1619, 'lose': 1620, 'jmm': 1621, 'trooper': 1622, 'thnx': 1623, 'nevada': 1624, 'toys': 1625, '10th': 1626, 'maths': 1627, '3kids': 1628, 'boys': 1629, 'haaa': 1630, 'intelligence': 1631, 'failed': 1632, 'grown': 1633, 'haaaaa': 1634, 'robert': 1635, 'bijoy': 1636, 'undergraduate': 1637, 'wear': 1638, 'shirt': 1639, 'soo': 1640, 'violinist': 1641, 'gaming': 1642, 'atlanta': 1643, 'omg': 1644, 'example': 1645, 'scared': 1646, 'clown': 1647, 'cause': 1648, 'shepherds': 1649, 'shepherd': 1650, 'mobile': 1651, 'y1': 1652, 'turned': 1653, 'last': 1654, 'month': 1655, 'bodmad': 1656, 'reminds': 1657, 'bodmas': 1658, 'knit': 1659, 'having': 1660, 'sahi': 1661, 'tera': 1662, 'war': 1663, 'grill': 1664, 'chutia': 1665, 'gandu': 1666, 'loda': 1667, 'tatti': 1668, 'delicious': 1669, 'allahabad': 1670, 'flirt': 1671, 'borrow': 1672, 'sew': 1673, 'burn': 1674, 'phew': 1675, 'unwind': 1676, 'other': 1677, 'moms': 1678, 'classical': 1679, 'carla': 1680, 'church': 1681, 'purposes': 1682, 'alan': 1683, 'turing': 1684, 'hiiii': 1685, 'out': 1686, 'colorado': 1687, 'peet': 1688, 'deaf': 1689, 'turkey': 1690, 'bsdk': 1691, 'bhubaneswar': 1692, 'surfing': 1693, 'internet': 1694, 'novels': 1695, 'ahaa': 1696, 'edhokke': 1697, 'ariyanam': 1698, 'amaravathi': 1699, 'cares': 1700, 'fuckk': 1701, 'offf': 1702, 'dafuq': 1703, 'swimmer': 1704, 'fu': 1705, 'jet': 1706, 'actor': 1707, 'tony': 1708, 'jocking': 1709, 'beat': 1710, 'snow': 1711, 'physical': 1712, 'groove': 1713, 'seven': 1714, 'fool': 1715, 'classic': 1716, 'laro': 1717, 'van': 1718, 'na': 1719, 'photos': 1720, 'command': 1721, 'weather': 1722, 'has': 1723, 'gone': 1724, 'halli': 1725, 'gine': 1726, 'trying': 1727, 'pif': 1728, 'pad': 1729, 'twice': 1730, 'gd': 1731, 'manchurian': 1732, 'hmmm': 1733, 'yesss': 1734, 'painting': 1735, 'jersey': 1736, 'collage': 1737, 'tomorrow': 1738, 'attack': 1739, 'write': 1740, 'finance': 1741, 'paris': 1742, 'must': 1743, 'rewarding': 1744, 'jharkhand': 1745, 'accountant': 1746, 'yrs': 1747, 'youtube': 1748, 'religious': 1749, 'phi': 1750, 'abhishil': 1751, 'kar': 1752, 'har': 1753, 'maiden': 1754, 'fateh': 1755, 'baraut': 1756, 'hv': 1757, 'jackson': 1758, 'pussy': 1759, 'looks': 1760, 'boobs': 1761, 'glad': 1762, 'available': 1763, 'claire': 1764, 'youba': 1765, 'mothe': 1766, 'hiiiiiiii': 1767, 'hiya': 1768, 'uoy': 1769, 'teem': 1770, 'ot': 1771, 'ecin': 1772, 'ycul': 1773, 'haribo': 1774, 'dialog': 1775, 'aslo': 1776, 'kiss': 1777, 'fucked': 1778, 'soldier': 1779, 'alcohol': 1780, 'bisexual': 1781, 'jack': 1782, 'coca': 1783, 'cola': 1784, 'drinks': 1785, 'party': 1786, 'types': 1787, 'bruno': 1788, 'mars': 1789, 'justin': 1790, 'bieber': 1791, 'lamborghini': 1792, 'aventador': 1793, 'rolls': 1794, 'royce': 1795, 'nowhere': 1796, 'detective': 1797, 'asshole': 1798, 'clouds': 1799}\n"
          ]
        }
      ]
    },
    {
      "cell_type": "code",
      "source": [
        "max_input_len = max(len(sen) for sen in input_integer_seq)\n",
        "print(\"Sentencia de entrada más larga:\", max_input_len)"
      ],
      "metadata": {
        "colab": {
          "base_uri": "https://localhost:8080/"
        },
        "id": "R1j2Ic7kvGsZ",
        "outputId": "94470f7d-4c6d-4fd8-e0af-c75904abba53"
      },
      "execution_count": 12,
      "outputs": [
        {
          "output_type": "stream",
          "name": "stdout",
          "text": [
            "Sentencia de entrada más larga: 9\n"
          ]
        }
      ]
    },
    {
      "cell_type": "code",
      "source": [
        "# tokenizamos los outputs\n",
        "output_tokenizer = Tokenizer(num_words=MAX_VOCAB_SIZE)\n",
        "output_tokenizer.fit_on_texts([\"<sos>\", \"<eos>\"] + output_sentences)\n",
        "output_integer_seq = output_tokenizer.texts_to_sequences(output_sentences)\n",
        "output_input_integer_seq = output_tokenizer.texts_to_sequences(output_sentences_inputs)"
      ],
      "metadata": {
        "id": "vAj6N5eTvRml"
      },
      "execution_count": 13,
      "outputs": []
    },
    {
      "cell_type": "code",
      "source": [
        "word2idx_outputs = output_tokenizer.word_index\n",
        "print(\"Palabras en el vocabulario:\", len(word2idx_outputs))"
      ],
      "metadata": {
        "colab": {
          "base_uri": "https://localhost:8080/"
        },
        "id": "zoyfR8Atwne7",
        "outputId": "c4c209c6-9d3c-4e3c-c30a-1c8a236d2eca"
      },
      "execution_count": 14,
      "outputs": [
        {
          "output_type": "stream",
          "name": "stdout",
          "text": [
            "Palabras en el vocabulario: 1806\n"
          ]
        }
      ]
    },
    {
      "cell_type": "code",
      "source": [
        "print(word2idx_outputs)"
      ],
      "metadata": {
        "colab": {
          "base_uri": "https://localhost:8080/"
        },
        "id": "awUnI6u8w6RY",
        "outputId": "f95387bc-25f0-46e0-f629-ffe6f4e716e1"
      },
      "execution_count": 15,
      "outputs": [
        {
          "output_type": "stream",
          "name": "stdout",
          "text": [
            "{'eos': 1, 'you': 2, 'i': 3, 'do': 4, 'what': 5, 'a': 6, 'are': 7, 'to': 8, 'for': 9, 'how': 10, 'am': 11, 'living': 12, 'like': 13, 'love': 14, 'have': 15, 'is': 16, 'm': 17, 'your': 18, 'read': 19, 'hello': 20, 'oh': 21, 'good': 22, 'that': 23, 'hi': 24, 'it': 25, 'the': 26, 'any': 27, 'not': 28, 'yes': 29, 'u': 30, 'and': 31, 'work': 32, 'about': 33, 'me': 34, 's': 35, 'in': 36, 'no': 37, 'my': 38, 'ok': 39, 'fine': 40, 'from': 41, 'today': 42, 'of': 43, 'hobbies': 44, 'doing': 45, 't': 46, 'where': 47, 'name': 48, 'play': 49, 'too': 50, 'go': 51, 'so': 52, 'well': 53, 'see': 54, 'great': 55, 'don': 56, 'favorite': 57, 'bye': 58, 'pets': 59, 'nice': 60, 'know': 61, 'there': 62, 'at': 63, 'hey': 64, 'why': 65, 'can': 66, 'sure': 67, 'live': 68, 'cool': 69, 'fun': 70, 'thanks': 71, 'old': 72, 'games': 73, 'beach': 74, 'job': 75, 'tell': 76, 'with': 77, 'student': 78, 'mean': 79, 'sorry': 80, 'girl': 81, 'up': 82, 'video': 83, 'vegan': 84, 'day': 85, 'city': 86, 'nothing': 87, 'cook': 88, 'studying': 89, 'lot': 90, 'be': 91, 'food': 92, 'wow': 93, 'really': 94, 'okay': 95, 'also': 96, 'r': 97, 'dog': 98, 'kind': 99, 'color': 100, 'want': 101, 'yeah': 102, 'as': 103, 'just': 104, 'music': 105, 've': 106, 'hate': 107, 'now': 108, 'or': 109, 'one': 110, 'india': 111, 'books': 112, 'doctor': 113, 'say': 114, 'movies': 115, 'study': 116, 'which': 117, 'fuck': 118, 'kids': 119, 'but': 120, 'thank': 121, 'dogs': 122, 'friends': 123, 'very': 124, 'teacher': 125, 'ur': 126, 'who': 127, 'was': 128, 'hear': 129, 'will': 130, 'eat': 131, 'hope': 132, 'because': 133, 'ya': 134, 'they': 135, 'he': 136, 'all': 137, 'n': 138, 'cali': 139, 'whats': 140, 'school': 141, 'store': 142, 'talk': 143, 'grocery': 144, 'lol': 145, 'same': 146, 'sounds': 147, 'k': 148, 'hii': 149, 'going': 150, 'watch': 151, 'thing': 152, 'this': 153, 'female': 154, 'night': 155, 'help': 156, 'coffee': 157, 'cat': 158, 'end': 159, 'think': 160, 'many': 161, 'get': 162, 'send': 163, 'im': 164, 'them': 165, 'man': 166, 'ask': 167, 'sex': 168, 'new': 169, 'did': 170, 'boy': 171, 'kill': 172, 'never': 173, 'an': 174, 'time': 175, 'got': 176, 'teach': 177, 'enjoy': 178, 'yourself': 179, 'meet': 180, 'then': 181, 'two': 182, 'swim': 183, 'we': 184, 'married': 185, 'speak': 186, 'right': 187, 'much': 188, 'yours': 189, 'age': 190, 'bad': 191, 'united': 192, 'states': 193, 'something': 194, 'awesome': 195, 'understand': 196, 'pizza': 197, 'asking': 198, 'book': 199, 'cats': 200, 'sing': 201, 'single': 202, 'number': 203, 'ha': 204, 'hindi': 205, 'else': 206, 'sleep': 207, 'need': 208, 'please': 209, 'she': 210, 'on': 211, 'call': 212, 'blue': 213, 'movie': 214, 'game': 215, 'bot': 216, 'big': 217, 'talking': 218, '32': 219, 'retired': 220, 'll': 221, 'army': 222, 'make': 223, 'home': 224, 'math': 225, 'ohh': 226, 'mine': 227, 'bro': 228, 'been': 229, 'happened': 230, 'answer': 231, 'year': 232, 'would': 233, 'dance': 234, 'already': 235, 'funny': 236, 'gym': 237, 'always': 238, 'band': 239, 'pet': 240, 'major': 241, 'business': 242, 'fan': 243, 'favourite': 244, 'best': 245, 'dont': 246, 'off': 247, 'sir': 248, 'means': 249, 'eating': 250, 'later': 251, 'years': 252, 'cricket': 253, 'reading': 254, 'some': 255, 'said': 256, 'only': 257, 'horses': 258, 'chat': 259, 'family': 260, 'hobby': 261, 'english': 262, 'things': 263, 'girls': 264, '2': 265, 'here': 266, 'soon': 267, 'more': 268, 'when': 269, 'were': 270, 'grow': 271, 'science': 272, 'gay': 273, 'fucking': 274, 'drive': 275, 'parents': 276, 'grade': 277, 'three': 278, 'does': 279, 'us': 280, 'working': 281, 'start': 282, '18': 283, 'her': 284, 'musician': 285, 'nurse': 286, 'hair': 287, 'had': 288, 'male': 289, 'chatting': 290, 'red': 291, 'delhi': 292, 'chip': 293, 'car': 294, 'twitch': 295, 'guess': 296, 'york': 297, 'told': 298, 'song': 299, 'black': 300, 'mom': 301, 'subject': 302, 'haha': 303, 'children': 304, 'next': 305, 'person': 306, 'singer': 307, 'hlw': 308, 'woman': 309, 'gud': 310, 'fast': 311, 'travel': 312, 'mother': 313, 'its': 314, 'give': 315, 'life': 316, 'bees': 317, 'anything': 318, 'indian': 319, 'sports': 320, 'beautiful': 321, 'football': 322, 'named': 323, '3': 324, 'riverside': 325, 'yo': 326, 'him': 327, '30': 328, 'pobox': 329, 'eyes': 330, 'cars': 331, 'boyfriend': 332, 'clowns': 333, 'mexican': 334, 'lover': 335, 're': 336, 'drink': 337, 'thats': 338, 'run': 339, 'hmm': 340, 'finish': 341, 'interesting': 342, 'watching': 343, 'soccer': 344, '25': 345, 'playing': 346, 'joke': 347, 'college': 348, 'question': 349, 'story': 350, 'robot': 351, 'women': 352, 'hiii': 353, 'iam': 354, 'tacos': 355, 'haa': 356, 'hai': 357, 'chess': 358, 'own': 359, 'class': 360, '20': 361, 'reply': 362, 'bank': 363, 'country': 364, 'listen': 365, 'looking': 366, 'still': 367, 'plz': 368, 'morning': 369, 'john': 370, 'dear': 371, 'either': 372, 'yaa': 373, 'california': 374, 'magic': 375, 'genre': 376, 'horror': 377, 'bake': 378, 'fly': 379, 'let': 380, 'animal': 381, 'could': 382, 'didn': 383, 'every': 384, 'shopping': 385, 'kinds': 386, 'place': 387, 'shop': 388, 'gender': 389, 'watches': 390, 'tennis': 391, 'cooking': 392, 'lost': 393, 'back': 394, 'better': 395, 'friend': 396, 'being': 397, 'aren': 398, 'languages': 399, 'happy': 400, 'chef': 401, 'grey': 402, 'use': 403, 'try': 404, 'beatles': 405, 'stop': 406, 'singing': 407, 'learn': 408, 'hlo': 409, 'photo': 410, 'those': 411, 'asshole': 412, 'appreciate': 413, 'farmer': 414, 'engineer': 415, 'gf': 416, 'pubg': 417, 'okk': 418, 'both': 419, '21': 420, 'hospital': 421, 'bout': 422, 'goes': 423, '12': 424, 'long': 425, 'german': 426, 'yup': 427, 'ride': 428, 'yea': 429, 'nope': 430, 'tv': 431, 'ooo': 432, 'father': 433, '19': 434, 'idea': 435, 'id': 436, 'maybe': 437, 'wearing': 438, 'hat': 439, 'amazing': 440, 'topic': 441, 'taco': 442, 'c': 443, 'problem': 444, 'purple': 445, 'o': 446, '17': 447, 'anyone': 448, 'ever': 449, 'come': 450, 'sad': 451, 'seen': 452, 'actually': 453, 'bf': 454, 'fish': 455, 'meat': 456, 'conversation': 457, 'librarian': 458, 'must': 459, 'brown': 460, 'player': 461, 'sometimes': 462, 'metal': 463, 'alright': 464, 'colorado': 465, 'part': 466, 'leave': 467, 'everything': 468, 'by': 469, 'respect': 470, 'winter': 471, 'rap': 472, 'harry': 473, 'potter': 474, 'star': 475, 'wars': 476, 'facebook': 477, 'money': 478, 'correct': 479, 'navy': 480, 'shipyard': 481, 'orange': 482, 'take': 483, 'hard': 484, 'riding': 485, 'green': 486, 'fn': 487, 'first': 488, 'teek': 489, 'kaam': 490, 'begin': 491, 'free': 492, 'suck': 493, 'dick': 494, 'die': 495, 'disney': 496, 'pleasure': 497, 'language': 498, 'traveling': 499, 'mike': 500, 'breathing': 501, 'degree': 502, 'engineering': 503, 'though': 504, 'his': 505, 'pink': 506, 'pic': 507, 'wish': 508, 'human': 509, 'vacation': 510, 'hyy': 511, 'walking': 512, 'comedian': 513, 'bike': 514, 'house': 515, 'shows': 516, 'partner': 517, 'bt': 518, 'happen': 519, 'restaurant': 520, 'chinese': 521, 'helo': 522, 'labrador': 523, 'busy': 524, 'wait': 525, 'find': 526, 'marketing': 527, 'pardon': 528, 'jobs': 529, 'wbu': 530, 'fyn': 531, 'god': 532, 'mad': 533, 'count': 534, 'cute': 535, '8': 536, 'welcome': 537, 'ohhh': 538, 'hurt': 539, 'famous': 540, 'fb': 541, 'streamer': 542, 'gas': 543, 'station': 544, 'pub': 545, 'wife': 546, 'eaten': 547, 'russia': 548, 'mon': 549, 'nowhere': 550, 'anytime': 551, 'team': 552, 'almost': 553, 'build': 554, 'houses': 555, '4': 556, 'together': 557, 'sky': 558, 'plans': 559, 'insurance': 560, 'shelter': 561, 'sara': 562, 'little': 563, 'sick': 564, 'duty': 565, '10': 566, 'surgeon': 567, '14': 568, 'names': 569, 'pork': 570, 'nah': 571, 'kidding': 572, 'goodbye': 573, 'farm': 574, 'used': 575, 'computer': 576, 'pa': 577, 'soda': 578, 'played': 579, '24': 580, 'ohio': 581, 'north': 582, 'carolina': 583, 'knit': 584, 'yellow': 585, 'stupid': 586, 'students': 587, 'prius': 588, 'boring': 589, 'peanuts': 590, 'peanut': 591, 'allergy': 592, 'swimming': 593, 'exit': 594, 'britney': 595, 'spears': 596, 'helloz': 597, 'listening': 598, 'bbye': 599, 'pregnant': 600, 'yiu': 601, 'matter': 602, 'fix': 603, 'if': 604, 'spanish': 605, 'before': 606, 'saying': 607, 'bored': 608, 'other': 609, 'piano': 610, 'hiking': 611, 'five': 612, 'sons': 613, 'should': 614, 'over': 615, 'golden': 616, 'thx': 617, 'deliver': 618, 'out': 619, 'air': 620, 'small': 621, 'boston': 622, 'alone': 623, 'weird': 624, 'normal': 625, 'went': 626, 'sexy': 627, 'honey': 628, 'meditate': 629, 'religion': 630, 'justin': 631, 'feminist': 632, 'jokes': 633, 'honda': 634, 'than': 635, 'friday': 636, 'lawyer': 637, 'sport': 638, 'toys': 639, 'larry': 640, 'sup': 641, 'vet': 642, 'drugs': 643, 'manager': 644, 'asked': 645, 'dumb': 646, 'sand': 647, 'breath': 648, 'change': 649, 'struggle': 650, 'works': 651, 'phone': 652, '1': 653, 'olakka': 654, 'health': 655, '33': 656, 'smoking': 657, 'hu': 658, 'karogi': 659, 'hobbie': 660, 'kk': 661, 'spain': 662, 'into': 663, 'girlfriend': 664, 'brat': 665, 'charlie': 666, 'leaving': 667, 'nissan': 668, 'guitar': 669, 'alaska': 670, 'ho': 671, 'nhi': 672, 'education': 673, 'such': 674, 'christ': 675, 'shit': 676, 'believe': 677, 'btw': 678, 'enjoying': 679, 'byee': 680, 'gn': 681, 'suffering': 682, 'cold': 683, 'bee': 684, 'command': 685, 'huski': 686, 'type': 687, 'yah': 688, 'woww': 689, 'sleeping': 690, 'surat': 691, 'hoo': 692, 'civil': 693, 'jus': 694, 'even': 695, 'young': 696, 'ooh': 697, 'ba': 698, 'pride': 699, 'management': 700, 'mostly': 701, 'taylor': 702, 'ohhk': 703, 'alive': 704, 'hv': 705, 'evening': 706, 'byyy': 707, 'na': 708, 'plzz': 709, 'taking': 710, 'electric': 711, 'basketball': 712, 'vegetables': 713, 'whts': 714, 'mountains': 715, 'son': 716, 'ranchi': 717, 'radar': 718, 'healthy': 719, 'soo': 720, 'poor': 721, 'heart': 722, 'italian': 723, 'graduation': 724, 'del': 725, 'again': 726, 'pls': 727, '13': 728, 'speaking': 729, 'world': 730, 'cork': 731, '4m': 732, 'waitress': 733, 'absolutely': 734, 'routine': 735, 'waiting': 736, 'feeling': 737, 'neither': 738, 'coach': 739, 'lucy': 740, 'hahaha': 741, 'saw': 742, 'attend': 743, 'mm': 744, 'debt': 745, 'completed': 746, 'breed': 747, '46': 748, 'challenge': 749, 'intelligence': 750, 'idiot': 751, 'show': 752, 'wassup': 753, 'dish': 754, 'times': 755, 'dancing': 756, 'espn': 757, 'worst': 758, 'bba': 759, 'social': 760, 'heard': 761, '22': 762, 'nd': 763, 'tamil': 764, 'thumb': 765, 'rock': 766, 'kid': 767, 'learning': 768, 'songs': 769, 'hungry': 770, 'company': 771, 'smart': 772, 'chicken': 773, 'photography': 774, 'bal': 775, 'shut': 776, 'ny': 777, 'inter': 778, '2nd': 779, 'wt': 780, 'france': 781, 'mumbai': 782, 'developer': 783, 'electrician': 784, 'ping': 785, 'pong': 786, 'veg': 787, 'f9': 788, 'shepherd': 789, 'kindergarten': 790, 'tree': 791, 'pretty': 792, 'sci': 793, 'wonderful': 794, 'boobs': 795, 'shoes': 796, 'hahn': 797, 'course': 798, 'ku': 799, 'deaf': 800, 'turkey': 801, 'noodles': 802, 'photos': 803, 'save': 804, 'sell': 805, 'painting': 806, 'nyt': 807, 'glad': 808, 'finance': 809, 'mary': 810, 'lucille': 811, 'soldier': 812, '35': 813, 'jack': 814, 'sos': 815, 'racist': 816, 'mee': 817, 'bell': 818, 'dave': 819, 'anybody': 820, 'comedy': 821, 'middle': 822, 'cancer': 823, 'terrible': 824, 'whanna': 825, 'spartak': 826, 'hooligan': 827, 'leila': 828, '36': 829, 'possible': 830, 'cookies': 831, 'higher': 832, 'mans': 833, 'engeneer': 834, 'supportive': 835, 'meditation': 836, 'spirituality': 837, 'quit': 838, 'overworked': 839, 'allready': 840, 'mickey': 841, 'mouse': 842, 'trauma': 843, 'dealer': 844, 'retail': 845, 'chop': 846, 'apologise': 847, 'tall': 848, 'parent': 849, 'died': 850, 'readings': 851, 'technician': 852, 'resturant': 853, 'sea': 854, 'pupil': 855, 'twelve': 856, 'super': 857, 'powers': 858, 'wher': 859, 'margarita': 860, 'garlik': 861, 'bread': 862, 'intersting': 863, 'putin': 864, 'honor': 865, 'hatiko': 866, 'twenties': 867, 'programmer': 868, 'mind': 869, 'deal': 870, 'bleat': 871, 'alcoholic': 872, 'realy': 873, 'ou': 874, 'true': 875, 'came': 876, 'artist': 877, 'scarlett': 878, 'johanson': 879, 'byr': 880, 'feom': 881, 'swift': 882, 'husband': 883, 'intelligent': 884, 'hiphop': 885, 'donyou': 886, 'their': 887, 'teste': 888, 'online': 889, 'eh': 890, 'coloring': 891, 'paint': 892, 'wooden': 893, 'walls': 894, 'superhero': 895, 'definetely': 896, 'way': 897, 'shape': 898, 'called': 899, 'avatar': 900, 'halo': 901, 'excited': 902, 'cam': 903, 'walk': 904, 'fires': 905, 'mmm': 906, 'yep': 907, 'latin': 908, 'american': 909, 'literature': 910, 'explain': 911, 'doctro': 912, 'local': 913, 'specs': 914, 'finished': 915, 'bird': 916, 'julie': 917, 'silly': 918, 'cow': 919, 'baseball': 920, 'heavy': 921, 'anymore': 922, 'irregularly': 923, 'retriever': 924, 'isn': 925, 'howdy': 926, 'stranger': 927, 'siblings': 928, 'contour': 929, 'tres': 930, 'bien': 931, 'intensive': 932, 'difficult': 933, 'close': 934, 'fresh': 935, 'horrible': 936, 'recently': 937, 'grew': 938, 'south': 939, 'seriously': 940, 'art': 941, 'chicago': 942, 'running': 943, 'stuff': 944, 'rolling': 945, 'stones': 946, 'zzzz': 947, 'colour': 948, 'nigga': 949, 'enought': 950, 'heeeeeeey': 951, 'wwaiting': 952, 'perfect': 953, 'hummus': 954, 'mushrooms': 955, 'fluent': 956, 'yoy': 957, 'teachers': 958, 'fallen': 959, 'trafficer': 960, 'transgender': 961, 'grand': 962, 'x': 963, 'trump': 964, 'fair': 965, 'enough': 966, 'agree': 967, 'role': 968, 'sexual': 969, 'preference': 970, 'gway': 971, 'beiber': 972, 'greystones': 973, 'attitude': 974, 'plant': 975, 'bombs': 976, 'trees': 977, 'motorbike': 978, 'femenist': 979, 'lgbt': 980, 'chaurma': 981, 'civic': 982, 'tough': 983, 'beer': 984, 'vine': 985, 'ben': 986, 'tiger': 987, 'someone': 988, 'rubber': 989, 'papaya': 990, 'awfull': 991, 'dead': 992, 'whacha': 993, 'doin': 994, 'kek': 995, 'meth': 996, 'cocain': 997, 'bots': 998, 'sun': 999, 'belgia': 1000, 'fire': 1001, 'spell': 1002, 'producer': 1003, 'midwest': 1004, 'castles': 1005, 'florida': 1006, 'mediate': 1007, 'laboratory': 1008, 'watermelon': 1009, 'complain': 1010, 'release': 1011, 'salary': 1012, 'shopkeeper': 1013, 'dancer': 1014, 'messenger': 1015, 'mail': 1016, 'yas': 1017, 'message': 1018, 'lime': 1019, 'curly': 1020, 'puzhingi': 1021, 'thinno': 1022, 'weed': 1023, 'youtuber': 1024, 'kiss': 1025, 'pajama': 1026, 'khol': 1027, 'phir': 1028, 'nem': 1029, 'apka': 1030, 'nama': 1031, 'kia': 1032, 'aacha': 1033, 'khuch': 1034, 'nahi': 1035, 'ajay': 1036, 'plzzz': 1037, 'wrestler': 1038, 'hotel': 1039, 'bathroom': 1040, 'km': 1041, 'chees': 1042, 'studding': 1043, 'forgive': 1044, 'shoe': 1045, 'dicks': 1046, 'tonight': 1047, 'dating': 1048, 'penny': 1049, 'may': 1050, 'hifi': 1051, 'achaa': 1052, 'p': 1053, 'yum': 1054, 'boxer': 1055, 'horse': 1056, 'urs': 1057, 'fuckinh': 1058, 'factory': 1059, 'hilly': 1060, 'places': 1061, 'mature': 1062, 'playboy': 1063, 'ladies': 1064, 'battle': 1065, 'royal': 1066, 'sentry': 1067, 'yoga': 1068, 'classes': 1069, 'gorgeous': 1070, 'stick': 1071, 'racer': 1072, 'motorcyclist': 1073, 'bola': 1074, 'shikat': 1075, 'ahe': 1076, 'sadya': 1077, 'ky': 1078, 'smjl': 1079, 'tumch': 1080, 'runway': 1081, 's2u': 1082, 'third': 1083, 'profession': 1084, 'goodnight': 1085, 'makes': 1086, 'sense': 1087, 'men': 1088, 'gand': 1089, 'maara': 1090, 'needn': 1091, 'noo': 1092, 'spiritual': 1093, 'without': 1094, 'exam': 1095, '8th': 1096, 'tru': 1097, 'lesbian': 1098, 'strangers': 1099, 'ah': 1100, 'yohr': 1101, 'propose': 1102, 'madarchod': 1103, 'drums': 1104, 'journey': 1105, 'hy': 1106, 'byy': 1107, 'churches': 1108, 'relax': 1109, 'around': 1110, 'backpropagating': 1111, 'errors': 1112, 'river': 1113, 'frm': 1114, 'guinea': 1115, 'pig': 1116, 'seem': 1117, 'inactive': 1118, 'share': 1119, 'details': 1120, 'software': 1121, 'couple': 1122, 'romentic': 1123, 'town': 1124, 'courier': 1125, 'offive': 1126, 'gen': 1127, 'professionally': 1128, 'real': 1129, 'dharmik': 1130, 'graphic': 1131, 'designer': 1132, 'wanna': 1133, 'resume': 1134, 'robotics': 1135, 'hollywood': 1136, 'moy': 1137, 'choice': 1138, 'present': 1139, 'practice': 1140, 'presently': 1141, 'btech': 1142, 'nyce': 1143, 'ju': 1144, 'pg': 1145, 'currently': 1146, 'nthg': 1147, 'flower': 1148, 'plants': 1149, 'relaxing': 1150, 'tqq': 1151, 'happiness': 1152, 'hm': 1153, 'fuking': 1154, 'nancy': 1155, 'ziggy': 1156, '26': 1157, 'roo': 1158, 'germany': 1159, 'properly': 1160, 'prejudice': 1161, 'gm': 1162, 'poker': 1163, 'mata': 1164, 'thnk': 1165, 'beth': 1166, 'ol': 1167, 'form': 1168, 'win': 1169, 'yeeee': 1170, 'nursing': 1171, 'strong': 1172, 'superb': 1173, 'rs': 1174, 'engit': 1175, 'increase': 1176, 'efficiency': 1177, 'design': 1178, 'busss': 1179, 'hbu': 1180, 'costomer': 1181, 'has': 1182, 'parrot': 1183, 'services': 1184, 'easy': 1185, 'continue': 1186, 'helpful': 1187, 'unemployment': 1188, 'lucknow': 1189, 'ma': 1190, 'self': 1191, 'mechanical': 1192, 'clash': 1193, 'clan': 1194, 'sound': 1195, 'hel': 1196, 'housekeeper': 1197, 'ooooooooh': 1198, 'ones': 1199, 'frozen': 1200, 'hairdresser': 1201, 'bolo': 1202, 'huge': 1203, 'issue': 1204, 'trick': 1205, 'earn': 1206, 'illl': 1207, 'goo': 1208, 'far': 1209, 'eleectrian': 1210, 'employed': 1211, 'supermarket': 1212, 'vocapation': 1213, 'bred': 1214, 'noumber': 1215, 'haii': 1216, 'prem': 1217, 'dude': 1218, 'pahadi': 1219, 'mountain': 1220, 'biking': 1221, 'market': 1222, 'achoo': 1223, 'gg': 1224, 'date': 1225, 'uttrakand': 1226, 'haridwar': 1227, '11th': 1228, 'surgery': 1229, 'scroll': 1230, 'gracias': 1231, 'dd': 1232, 'cindition': 1233, 'bitch': 1234, 'fortnite': 1235, '80': 1236, 'roads': 1237, 'sewing': 1238, 'shivu': 1239, 'tchaikovsky': 1240, 'charity': 1241, 'bunnies': 1242, 'laugh': 1243, 'ar': 1244, 'eyou': 1245, 'sunbath': 1246, 'russian': 1247, 'russhian': 1248, 'stuped': 1249, 'ufa': 1250, 'ere': 1251, 'wargames': 1252, 'chandan': 1253, 'persuing': 1254, 'rice': 1255, 'taste': 1256, 'fried': 1257, 'baked': 1258, 'rural': 1259, 'area': 1260, 'preety': 1261, 'mma': 1262, 'fight': 1263, 'haryana': 1264, 'driving': 1265, 'craft': 1266, 'reside': 1267, 'usa': 1268, 'wok': 1269, 'pics': 1270, 'another': 1271, 'perr': 1272, 'peer': 1273, 'seperated': 1274, 'separated': 1275, '16': 1276, 'sc': 1277, 'lekin': 1278, 'kqise': 1279, 'kru': 1280, 'keep': 1281, 'truth': 1282, 'sales': 1283, 'diamond': 1284, 'tattoos': 1285, '6': 1286, 'meeting': 1287, 'chal': 1288, 'bhhag': 1289, 'bc': 1290, 'waiteress': 1291, 'dat': 1292, 'ready': 1293, 'conversational': 1294, 'tables': 1295, 'serve': 1296, 'brother': 1297, 'forward': 1298, 'uer': 1299, 'changing': 1300, '27': 1301, 'redhead': 1302, 'outside': 1303, 'gardening': 1304, 'magical': 1305, 'become': 1306, 'dad': 1307, 'ss': 1308, 'capital': 1309, 'paharganj': 1310, 'shillong': 1311, 'majoring': 1312, 'hunt': 1313, 'delivery': 1314, 'met': 1315, 'ntg': 1316, 'done': 1317, 'frd': 1318, 'zen': 1319, 'luck': 1320, 'feel': 1321, 'yono': 1322, 'yeaa': 1323, 'meeto': 1324, 'result': 1325, 'hav': 1326, 'pursuing': 1327, 'b': 1328, 'com': 1329, 'action': 1330, 'romantic': 1331, 'bmw': 1332, 'baby': 1333, 'urdu': 1334, 'several': 1335, 'aunty': 1336, 'app': 1337, 'kha': 1338, 'se': 1339, 'jat': 1340, 'sen': 1341, 'sec': 1342, 'kaithal': 1343, 'painted': 1344, 'pictures': 1345, 'biggest': 1346, 'wat': 1347, 'trainer': 1348, 'oookkk': 1349, 'bcom': 1350, 'pharmacy': 1351, 'q': 1352, 'v': 1353, 'e': 1354, 'mc2': 1355, 'bore': 1356, 'kay': 1357, 'kare': 1358, 'rha': 1359, 'freeze': 1360, 'limbus': 1361, 'fvrt': 1362, 'lawyers': 1363, 'counrty': 1364, 'tells': 1365, 'kgkdusu': 1366, 'power': 1367, 'grid': 1368, 'chl': 1369, 'sala': 1370, 'christianity': 1371, 'dukan': 1372, 'dekhna': 1373, 'pasand': 1374, 'haraam': 1375, 'kyu': 1376, 'biriyani': 1377, 'lion': 1378, 'fail': 1379, 'taught': 1380, 'ten': 1381, 'tailor': 1382, 'wtf': 1383, 'hell': 1384, 'damn': 1385, 'getlost': 1386, 'disturbance': 1387, 'animaos': 1388, 'poady': 1389, 'kalanjitt': 1390, 'podey': 1391, 'onn': 1392, 'ohk': 1393, 'months': 1394, 'sarah': 1395, 'persue': 1396, 'banking': 1397, 'apple': 1398, 'media': 1399, 'geard': 1400, 'neapl': 1401, 'myself': 1402, 'tamio': 1403, 'french': 1404, 'thumbs': 1405, 'bihar': 1406, 'born': 1407, 'erm': 1408, 'space': 1409, 'pop': 1410, 'amsterdam': 1411, 'check': 1412, 'iq': 1413, 'level': 1414, 'clothes': 1415, 'stylish': 1416, 'unique': 1417, 'short': 1418, 'skirts': 1419, 'songle': 1420, 'high': 1421, 'maintenance': 1422, 'standard': 1423, 'snorkeling': 1424, 'abot': 1425, 'most': 1426, 'thrones': 1427, 'hairs': 1428, 'chest': 1429, 'leg': 1430, 'jock': 1431, 'boaring': 1432, 'massage': 1433, 'agra': 1434, 'retirement': 1435, 'waiter': 1436, 'naa': 1437, 'fancy': 1438, 'chuttiyq': 1439, 'nyc': 1440, '11': 1441, 'mentioned': 1442, 'above': 1443, 'conversion': 1444, 'govt': 1445, 'belong': 1446, 'punjab': 1447, 'punjabi': 1448, 'unarried': 1449, 'unmarried': 1450, 'suggest': 1451, 'exercise': 1452, 'history': 1453, 'frankie': 1454, 'annabelle': 1455, 'nickname': 1456, 'volunteer': 1457, 'wasn': 1458, 'expert': 1459, 'survival': 1460, 'pull': 1461, 'push': 1462, 'fickle': 1463, 'fruits': 1464, 'crazy': 1465, 'sry': 1466, 'sweet': 1467, 'dreams': 1468, 'toronto': 1469, 'etc': 1470, 'slow': 1471, 'minute': 1472, 'past': 1473, 'texts': 1474, 'value': 1475, 'ltd': 1476, 'hole': 1477, 'dud': 1478, 'expensive': 1479, 'orly': 1480, 'rost': 1481, 'background': 1482, 'extra': 1483, 'compliment': 1484, 'yyrr': 1485, 'emotional': 1486, 'security': 1487, 'supar': 1488, 'futur': 1489, 'travis': 1490, 'add': 1491, 'kalpesh': 1492, 'adulkar': 1493, 'basic': 1494, 'yaaa': 1495, 'death': 1496, 'g': 1497, 'congratulations': 1498, 'd': 1499, 'exited': 1500, 'ocean': 1501, 'nooh': 1502, 'starcraft': 1503, 'bffs': 1504, 'wand': 1505, 'hubby': 1506, 'tnx': 1507, 'babysitter': 1508, 'umm': 1509, 'commerce': 1510, 'studies': 1511, 'move': 1512, 'miscommunicated': 1513, 'park': 1514, 'robots': 1515, 'gtfo': 1516, 'by3': 1517, 'medal': 1518, 'hats': 1519, 'china': 1520, 'म': 1521, 'भ': 1522, 'रत': 1523, 'स': 1524, 'ह': 1525, 'volleyball': 1526, 'defender': 1527, 'visit': 1528, 'account': 1529, 'jane': 1530, 'twenty': 1531, 'yr': 1532, 'older': 1533, 'office': 1534, 'photographer': 1535, 'sock': 1536, 'instrument': 1537, 'drum': 1538, 'y': 1539, 'mi': 1540, 'dum': 1541, 'indor': 1542, 'np': 1543, 'wht': 1544, 'guns': 1545, 'watts': 1546, 'relationship': 1547, 'virgin': 1548, 'sambhu': 1549, 'officially': 1550, 'sundegarh': 1551, 'pta': 1552, 'web': 1553, 'table': 1554, 'surf': 1555, 'painful': 1556, 'melon': 1557, 'imagine': 1558, 'fever': 1559, 'george': 1560, 'final': 1561, 'chocolate': 1562, 'frds': 1563, 'aaa': 1564, 'foody': 1565, 'skier': 1566, 'child': 1567, 'interior': 1568, 'designing': 1569, 'chicks': 1570, 'vikas': 1571, 'weekend': 1572, 'hloo': 1573, 'marathon': 1574, 'po': 1575, 'myre': 1576, 'four': 1577, 'uh': 1578, 'sumit': 1579, 'whtsp': 1580, 'stay': 1581, 'private': 1582, 'diet': 1583, 'ga': 1584, 'state': 1585, 'triumph': 1586, 'chasing': 1587, 'kimono': 1588, 'lizards': 1589, 'telling': 1590, 'lazy': 1591, 'lazz': 1592, 'questions': 1593, 'head': 1594, 'bed': 1595, 'voilet': 1596, 'wrong': 1597, 'android': 1598, 'applications': 1599, 'according': 1600, 'suitability': 1601, 'garden': 1602, 'mango': 1603, 'gives': 1604, 'tasty': 1605, 'fruit': 1606, 'summer': 1607, 'tomatoes': 1608, 'toaster': 1609, 'hoe': 1610, 'visited': 1611, 'foods': 1612, 'won': 1613, 'berlin': 1614, 'inception': 1615, 'godfather': 1616, 'haven': 1617, 'crafting': 1618, 'beg': 1619, 'guitarist': 1620, '5': 1621, 'bds': 1622, 'violin': 1623, 'messed': 1624, 'adam': 1625, 'alabama': 1626, 'lose': 1627, 'lovelife': 1628, 'blady': 1629, 'bastard': 1630, 'trooper': 1631, 'thnx': 1632, 'nevada': 1633, 'bhusawal': 1634, 'response': 1635, 'pickup': 1636, '10th': 1637, '3kids': 1638, 'meaning': 1639, 'boys': 1640, 'haaa': 1641, 'failed': 1642, 'haaaaa': 1643, 'specific': 1644, 'sis': 1645, 'robert': 1646, 'bijoy': 1647, 'undergraduate': 1648, 'musics': 1649, 'violinist': 1650, 'atlanta': 1651, 'omg': 1652, 'knows': 1653, 'scared': 1654, 'clown': 1655, 'cause': 1656, 'shepherds': 1657, 'naah': 1658, 'nooo': 1659, 'turned': 1660, 'last': 1661, 'month': 1662, 'reminds': 1663, 'bodmas': 1664, 'sucking': 1665, 'sahi': 1666, 'tera': 1667, 'bhai': 1668, 'war': 1669, 'grill': 1670, 'gandu': 1671, 'loda': 1672, 'once': 1673, 'tatti': 1674, 'delicious': 1675, 'yess': 1676, 'bhang': 1677, 'bhosda': 1678, 'okkk': 1679, 'allahabad': 1680, 'borrow': 1681, 'burn': 1682, 'phew': 1683, 'unwind': 1684, 'kmc': 1685, 'special': 1686, 'divorce': 1687, 'llb': 1688, 'whore': 1689, 'classical': 1690, 'follow': 1691, 'church': 1692, 'illiterate': 1693, 'alan': 1694, 'turing': 1695, 'hiiii': 1696, 'situated': 1697, 'general': 1698, 'line': 1699, 'pope': 1700, 'purpose': 1701, 'climbing': 1702, 'meanings': 1703, 'gd': 1704, 'bhubaneswar': 1705, 'novels': 1706, 'poday': 1707, 'key': 1708, 'west': 1709, 'ahaa': 1710, 'edhokke': 1711, 'ariyanam': 1712, 'okey': 1713, 'ago': 1714, 'native': 1715, 'mobile': 1716, 'legend': 1717, 'swimmer': 1718, 'jet': 1719, 'opinion': 1720, 'dark': 1721, 'tony': 1722, 'beat': 1723, 'burger': 1724, '9': 1725, 'snow': 1726, 'lamb': 1727, 'seven': 1728, 'fool': 1729, 'classic': 1730, 'laro': 1731, 'van': 1732, 'nepali': 1733, 'cell': 1734, 'impossible': 1735, 'weather': 1736, 'hallo': 1737, 'gine': 1738, 'lovely': 1739, 'adventurist': 1740, 'lonely': 1741, 'animals': 1742, 'eminem': 1743, 'seems': 1744, 'stuck': 1745, 'twice': 1746, 'hmmm': 1747, 'jersey': 1748, 'rajasthan': 1749, 'collage': 1750, 'care': 1751, 'olympic': 1752, 'pool': 1753, 'rewarding': 1754, 'lives': 1755, 'jharkhand': 1756, 'accountant': 1757, 'steak': 1758, 'religious': 1759, 'phi': 1760, 'fro': 1761, 'michael': 1762, 'jackson': 1763, 'knw': 1764, 'pussy': 1765, 'wine': 1766, 'looks': 1767, 'contact': 1768, '54': 1769, 'america': 1770, 'available': 1771, 'claire': 1772, 'youba': 1773, 'mc': 1774, 'hiya': 1775, 'service': 1776, 'uoy': 1777, 'teem': 1778, 'ot': 1779, 'ecin': 1780, 'ycul': 1781, '42': 1782, 'steve': 1783, 'haribo': 1784, 'dialog': 1785, 'sent': 1786, 'fucked': 1787, '9th': 1788, 'koshar': 1789, 'week': 1790, 'ankia': 1791, 'akhmatova': 1792, 'bisexual': 1793, 'coca': 1794, 'cola': 1795, 'drinks': 1796, 'bruno': 1797, 'mars': 1798, 'bieber': 1799, 'lamborghini': 1800, 'aventador': 1801, 'rolls': 1802, 'royce': 1803, 'detective': 1804, 'favorites': 1805, 'assholes': 1806}\n"
          ]
        }
      ]
    },
    {
      "cell_type": "code",
      "source": [
        "max_out_len = max(len(sen) for sen in output_integer_seq)\n",
        "print(\"Sentencia de salida más larga:\", max_out_len)"
      ],
      "metadata": {
        "colab": {
          "base_uri": "https://localhost:8080/"
        },
        "id": "btrN-sbmw9kn",
        "outputId": "28e93a33-6525-4905-fbe1-55ce38119d84"
      },
      "execution_count": 16,
      "outputs": [
        {
          "output_type": "stream",
          "name": "stdout",
          "text": [
            "Sentencia de salida más larga: 10\n"
          ]
        }
      ]
    },
    {
      "cell_type": "code",
      "source": [
        "# Se suma 1 para incluir el token de palabra desconocida\n",
        "num_words_output = min(len(word2idx_outputs) + 1, MAX_VOCAB_SIZE)\n",
        "print(num_words_output)"
      ],
      "metadata": {
        "colab": {
          "base_uri": "https://localhost:8080/"
        },
        "id": "8r7oliW2xBvl",
        "outputId": "71116fff-4f16-4671-ed24-8e55c1367ac2"
      },
      "execution_count": 17,
      "outputs": [
        {
          "output_type": "stream",
          "name": "stdout",
          "text": [
            "1807\n"
          ]
        }
      ]
    },
    {
      "cell_type": "code",
      "source": [
        "# a la hora de realiza padding es importante tener en cuenta que en el encoder\n",
        "# los ceros se agregan al comienzo y en el decoder al final. Esto es porque\n",
        "# la salida del encoder está basado en las últimas palabras de la sentencia\n",
        "# (son las más importantes), mientras que en el decoder está basado\n",
        "# en el comienzo de la secuencia de salida ya que es la realimentación del sistema\n",
        "# y termina con fin de sentencia.\n",
        "\n",
        "encoder_input_sequences = pad_sequences(input_integer_seq, maxlen=max_input_len)\n",
        "print(\"encoder_input_sequences shape:\", encoder_input_sequences.shape)\n",
        "\n",
        "decoder_input_sequences = pad_sequences(output_input_integer_seq, maxlen=max_out_len, padding='post')\n",
        "print(\"decoder_input_sequences shape:\", decoder_input_sequences.shape)"
      ],
      "metadata": {
        "colab": {
          "base_uri": "https://localhost:8080/"
        },
        "id": "l_nk4J3GxhQc",
        "outputId": "5f67bab4-f1ee-4b10-a66b-fd16645a9c7c"
      },
      "execution_count": 18,
      "outputs": [
        {
          "output_type": "stream",
          "name": "stdout",
          "text": [
            "encoder_input_sequences shape: (6033, 9)\n",
            "decoder_input_sequences shape: (6033, 10)\n"
          ]
        }
      ]
    },
    {
      "cell_type": "code",
      "source": [
        "#Se utiliza \"decoder_output_sequences\" con la misma estrategia con que se transformó la entrada del decoder.\n",
        "from keras.utils import to_categorical\n",
        "decoder_output_sequences = pad_sequences(output_integer_seq, maxlen=max_out_len, padding='post')\n",
        "decoder_targets = to_categorical(decoder_output_sequences, num_classes=num_words_output) # pasamos a OnehotEncoding\n",
        "print(\"decoder_targets: \")\n",
        "print(f\"cantidad de datapoints {decoder_targets.shape[0]}, tamaño de secuencia {decoder_targets.shape[1]}, tamaño de vocabulario {decoder_targets.shape[2]}\")"
      ],
      "metadata": {
        "colab": {
          "base_uri": "https://localhost:8080/"
        },
        "id": "aB08rJHOzNrf",
        "outputId": "16e18f62-139f-4b9b-fe9d-4279643684c1"
      },
      "execution_count": 19,
      "outputs": [
        {
          "output_type": "stream",
          "name": "stdout",
          "text": [
            "decoder_targets: \n",
            "cantidad de datapoints 6033, tamaño de secuencia 10, tamaño de vocabulario 1807\n"
          ]
        }
      ]
    },
    {
      "cell_type": "markdown",
      "metadata": {
        "id": "_CJIsLBbj6rg"
      },
      "source": [
        "### 3 - Preparar los embeddings\n",
        "Utilizar los embeddings de Glove o FastText para transformar los tokens de entrada en vectores"
      ]
    },
    {
      "cell_type": "code",
      "source": [
        "# siguiendo recomendación descargamos FastText\n",
        "import os\n",
        "import gdown\n",
        "!curl -L -o 'fasttext.pkl' 'https://drive.google.com/u/0/uc?id=1Qi1r-u5lsEsNqRSxLrpNOqQ3B_ufltCa&export=download&confirm=t'"
      ],
      "metadata": {
        "colab": {
          "base_uri": "https://localhost:8080/"
        },
        "id": "nfHrlqNmotLr",
        "outputId": "298c9a0f-ce4c-4176-912b-9c786c12670b"
      },
      "execution_count": 20,
      "outputs": [
        {
          "output_type": "stream",
          "name": "stdout",
          "text": [
            "  % Total    % Received % Xferd  Average Speed   Time    Time     Time  Current\n",
            "                                 Dload  Upload   Total   Spent    Left  Speed\n",
            "\r  0     0    0     0    0     0      0      0 --:--:-- --:--:-- --:--:--     0\r  0     0    0     0    0     0      0      0 --:--:-- --:--:-- --:--:--     0\n",
            "  0     0    0     0    0     0      0      0 --:--:-- --:--:-- --:--:--     0\n",
            "100 2746M  100 2746M    0     0  90.7M      0  0:00:30  0:00:30 --:--:--  107M\n"
          ]
        }
      ]
    },
    {
      "cell_type": "code",
      "source": [
        "import logging\n",
        "import os\n",
        "from pathlib import Path\n",
        "from io import StringIO\n",
        "import pickle\n",
        "\n",
        "class WordsEmbeddings(object):\n",
        "    logger = logging.getLogger(__name__)\n",
        "\n",
        "    def __init__(self):\n",
        "        # load the embeddings\n",
        "        words_embedding_pkl = Path(self.PKL_PATH)\n",
        "        if not words_embedding_pkl.is_file():\n",
        "            words_embedding_txt = Path(self.WORD_TO_VEC_MODEL_TXT_PATH)\n",
        "            assert words_embedding_txt.is_file(), 'Words embedding not available'\n",
        "            embeddings = self.convert_model_to_pickle()\n",
        "        else:\n",
        "            embeddings = self.load_model_from_pickle()\n",
        "        self.embeddings = embeddings\n",
        "        # build the vocabulary hashmap\n",
        "        index = np.arange(self.embeddings.shape[0])\n",
        "        # Dicctionarios para traducir de embedding a IDX de la palabra\n",
        "        self.word2idx = dict(zip(self.embeddings['word'], index))\n",
        "        self.idx2word = dict(zip(index, self.embeddings['word']))\n",
        "\n",
        "    def get_words_embeddings(self, words):\n",
        "        words_idxs = self.words2idxs(words)\n",
        "        return self.embeddings[words_idxs]['embedding']\n",
        "\n",
        "    def words2idxs(self, words):\n",
        "        return np.array([self.word2idx.get(word, -1) for word in words])\n",
        "\n",
        "    def idxs2words(self, idxs):\n",
        "        return np.array([self.idx2word.get(idx, '-1') for idx in idxs])\n",
        "\n",
        "    def load_model_from_pickle(self):\n",
        "        self.logger.debug(\n",
        "            'loading words embeddings from pickle {}'.format(\n",
        "                self.PKL_PATH\n",
        "            )\n",
        "        )\n",
        "        max_bytes = 2**28 - 1 # 256MB\n",
        "        bytes_in = bytearray(0)\n",
        "        input_size = os.path.getsize(self.PKL_PATH)\n",
        "        with open(self.PKL_PATH, 'rb') as f_in:\n",
        "            for _ in range(0, input_size, max_bytes):\n",
        "                bytes_in += f_in.read(max_bytes)\n",
        "        embeddings = pickle.loads(bytes_in)\n",
        "        self.logger.debug('words embeddings loaded')\n",
        "        return embeddings\n",
        "\n",
        "    def convert_model_to_pickle(self):\n",
        "        # create a numpy strctured array:\n",
        "        # word     embedding\n",
        "        # U50      np.float32[]\n",
        "        # word_1   a, b, c\n",
        "        # word_2   d, e, f\n",
        "        # ...\n",
        "        # word_n   g, h, i\n",
        "        self.logger.debug(\n",
        "            'converting and loading words embeddings from text file {}'.format(\n",
        "                self.WORD_TO_VEC_MODEL_TXT_PATH\n",
        "            )\n",
        "        )\n",
        "        structure = [('word', np.dtype('U' + str(self.WORD_MAX_SIZE))),\n",
        "                     ('embedding', np.float32, (self.N_FEATURES,))]\n",
        "        structure = np.dtype(structure)\n",
        "        # load numpy array from disk using a generator\n",
        "        with open(self.WORD_TO_VEC_MODEL_TXT_PATH, encoding=\"utf8\") as words_embeddings_txt:\n",
        "            embeddings_gen = (\n",
        "                (line.split()[0], line.split()[1:]) for line in words_embeddings_txt\n",
        "                if len(line.split()[1:]) == self.N_FEATURES\n",
        "            )\n",
        "            embeddings = np.fromiter(embeddings_gen, structure)\n",
        "        # add a null embedding\n",
        "        null_embedding = np.array(\n",
        "            [('null_embedding', np.zeros((self.N_FEATURES,), dtype=np.float32))],\n",
        "            dtype=structure\n",
        "        )\n",
        "        embeddings = np.concatenate([embeddings, null_embedding])\n",
        "        # dump numpy array to disk using pickle\n",
        "        max_bytes = 2**28 - 1 # # 256MB\n",
        "        bytes_out = pickle.dumps(embeddings, protocol=pickle.HIGHEST_PROTOCOL)\n",
        "        with open(self.PKL_PATH, 'wb') as f_out:\n",
        "            for idx in range(0, len(bytes_out), max_bytes):\n",
        "                f_out.write(bytes_out[idx:idx+max_bytes])\n",
        "        self.logger.debug('words embeddings loaded')\n",
        "        return embeddings\n",
        "\n",
        "\n",
        "class GloveEmbeddings(WordsEmbeddings):\n",
        "    WORD_TO_VEC_MODEL_TXT_PATH = 'glove.twitter.27B.50d.txt'\n",
        "    PKL_PATH = 'gloveembedding.pkl'\n",
        "    N_FEATURES = 50\n",
        "    WORD_MAX_SIZE = 60\n",
        "\n",
        "\n",
        "class FasttextEmbeddings(WordsEmbeddings):\n",
        "    WORD_TO_VEC_MODEL_TXT_PATH = 'cc.en.300.vec'\n",
        "    PKL_PATH = 'fasttext.pkl'\n",
        "    N_FEATURES = 300\n",
        "    WORD_MAX_SIZE = 60"
      ],
      "metadata": {
        "id": "8y6yfQjpp7XD"
      },
      "execution_count": 21,
      "outputs": []
    },
    {
      "cell_type": "code",
      "source": [
        "model_embeddings = FasttextEmbeddings()"
      ],
      "metadata": {
        "id": "xXY1ziwWqEWH"
      },
      "execution_count": 22,
      "outputs": []
    },
    {
      "cell_type": "code",
      "source": [
        "# Crear la Embedding matrix de las secuencias del encoder\n",
        "print('preparing embedding matrix...')\n",
        "embed_dim = model_embeddings.N_FEATURES\n",
        "words_not_found = []\n",
        "\n",
        "# word_index provieen del tokenizer\n",
        "\n",
        "nb_words = min(MAX_VOCAB_SIZE, len(word2idx_inputs)) # vocab_size\n",
        "embedding_matrix = np.zeros((nb_words, embed_dim))\n",
        "for word, i in word2idx_inputs.items():\n",
        "    if i >= nb_words:\n",
        "        continue\n",
        "    embedding_vector = model_embeddings.get_words_embeddings(word)[0]\n",
        "    if (embedding_vector is not None) and len(embedding_vector) > 0:\n",
        "\n",
        "        embedding_matrix[i] = embedding_vector\n",
        "    else:\n",
        "        # words not found in embedding index will be all-zeros.\n",
        "        words_not_found.append(word)\n",
        "\n",
        "print('number of null word embeddings:', np.sum(np.sum(embedding_matrix**2, axis=1) == 0))"
      ],
      "metadata": {
        "colab": {
          "base_uri": "https://localhost:8080/"
        },
        "id": "YVPpxBK5qG1z",
        "outputId": "5b84d00a-da23-4217-dd2b-b43c1b3fe6ca"
      },
      "execution_count": 23,
      "outputs": [
        {
          "output_type": "stream",
          "name": "stdout",
          "text": [
            "preparing embedding matrix...\n",
            "number of null word embeddings: 1\n"
          ]
        }
      ]
    },
    {
      "cell_type": "code",
      "source": [
        "# Dimensión de los embeddings\n",
        "embedding_matrix.shape"
      ],
      "metadata": {
        "colab": {
          "base_uri": "https://localhost:8080/"
        },
        "id": "alohed_htKVN",
        "outputId": "30350ada-31f2-409a-f2ca-ec5540eebdbb"
      },
      "execution_count": 24,
      "outputs": [
        {
          "output_type": "execute_result",
          "data": {
            "text/plain": [
              "(1799, 300)"
            ]
          },
          "metadata": {},
          "execution_count": 24
        }
      ]
    },
    {
      "cell_type": "code",
      "source": [
        "# Crear la Embedding matrix de las secuencias del decoder\n",
        "# nb_words para el decoder\n",
        "print('preparing embedding matrix...')\n",
        "embed_dim_2 = model_embeddings.N_FEATURES\n",
        "words_not_found_2 = []\n",
        "\n",
        "\n",
        "nb_words_deco = min(MAX_VOCAB_SIZE, num_words_output) # vocab_size\n",
        "embedding_matrix_2 = np.zeros((nb_words_deco, embed_dim_2))\n",
        "for word, i in word2idx_outputs.items():\n",
        "    if i >= nb_words_deco:\n",
        "        continue\n",
        "    embedding_vector_2 = model_embeddings.get_words_embeddings(word)[0]\n",
        "    if (embedding_vector_2 is not None) and len(embedding_vector_2) > 0:\n",
        "\n",
        "        embedding_matrix_2[i] = embedding_vector_2\n",
        "    else:\n",
        "        # words not found in embedding index will be all-zeros.\n",
        "        words_not_found_2.append(word)\n",
        "\n",
        "print('number of null word embeddings:', np.sum(np.sum(embedding_matrix_2**2, axis=1) == 0))"
      ],
      "metadata": {
        "colab": {
          "base_uri": "https://localhost:8080/"
        },
        "id": "OyEnVzJ2Dg4o",
        "outputId": "f2993e16-4827-4899-b951-3e1da1082c04"
      },
      "execution_count": 25,
      "outputs": [
        {
          "output_type": "stream",
          "name": "stdout",
          "text": [
            "preparing embedding matrix...\n",
            "number of null word embeddings: 1\n"
          ]
        }
      ]
    },
    {
      "cell_type": "code",
      "source": [
        "# Dimensión de los embeddings\n",
        "embedding_matrix_2.shape"
      ],
      "metadata": {
        "colab": {
          "base_uri": "https://localhost:8080/"
        },
        "id": "HhmR3adIFEb-",
        "outputId": "179265be-dda4-4e64-fcff-ad773399d5ff"
      },
      "execution_count": 26,
      "outputs": [
        {
          "output_type": "execute_result",
          "data": {
            "text/plain": [
              "(1807, 300)"
            ]
          },
          "metadata": {},
          "execution_count": 26
        }
      ]
    },
    {
      "cell_type": "markdown",
      "metadata": {
        "id": "3vKbhjtIwPgM"
      },
      "source": [
        "### 4 - Entrenar el modelo\n",
        "Entrenar un modelo basado en el esquema encoder-decoder utilizando los datos generados en los puntos anteriores. Utilce como referencias los ejemplos vistos en clase."
      ]
    },
    {
      "cell_type": "code",
      "source": [
        "from keras.models import Model\n",
        "from keras.layers import Input, LSTM, Dense\n",
        "\n",
        "n_units = 128\n",
        "\n",
        "# define training encoder\n",
        "encoder_inputs = Input(shape=(max_input_len))\n",
        "\n",
        "# embedding preentrenado para la entrada del encoder\n",
        "encoder_embedding_layer = Embedding(\n",
        "          input_dim=nb_words,  # definido en el Tokenizador\n",
        "          output_dim=embed_dim,  # dimensión de los embeddings utilizados\n",
        "          input_length=max_input_len, # tamaño máximo de la secuencia de entrada\n",
        "          weights=[embedding_matrix],  # matrix de embeddings\n",
        "          trainable=False)      # marcar como layer no entrenable\n",
        "\n",
        "encoder_inputs_x = encoder_embedding_layer(encoder_inputs)\n",
        "\n",
        "encoder = LSTM(n_units, return_state=True)\n",
        "encoder_outputs, state_h, state_c = encoder(encoder_inputs_x)\n",
        "encoder_states = [state_h, state_c]\n",
        "\n",
        "# define training decoder\n",
        "\n",
        "# embedding preentrenado para la entrada del decoder\n",
        "decoder_embedding_layer = Embedding(\n",
        "          input_dim=nb_words_deco,  # definido en el Tokenizador\n",
        "          output_dim=embed_dim_2,  # dimensión de los embeddings utilizados\n",
        "          input_length=max_out_len, # tamaño máximo de la secuencia de entrada\n",
        "          weights=[embedding_matrix_2],  # matrix de embeddings\n",
        "          trainable=False)      # marcar como layer no entrenable\n",
        "\n",
        "decoder_inputs = Input(shape=(max_out_len))\n",
        "decoder_inputs_x = decoder_embedding_layer(decoder_inputs)\n",
        "\n",
        "decoder_lstm = LSTM(n_units, return_sequences=True, return_state=True)\n",
        "decoder_outputs, _, _ = decoder_lstm(decoder_inputs_x, initial_state=encoder_states)\n",
        "\n",
        "# Dense\n",
        "decoder_dense = Dense(num_words_output, activation='softmax')\n",
        "decoder_outputs = decoder_dense(decoder_outputs)\n",
        "model = Model([encoder_inputs, decoder_inputs], decoder_outputs)\n",
        "\n",
        "model.compile(loss='categorical_crossentropy', optimizer=\"Adam\", metrics=['accuracy'])\n",
        "model.summary()"
      ],
      "metadata": {
        "colab": {
          "base_uri": "https://localhost:8080/"
        },
        "id": "YcHV5LVzt0sc",
        "outputId": "30b50b75-9291-497f-938d-823c0bce729c"
      },
      "execution_count": 27,
      "outputs": [
        {
          "output_type": "stream",
          "name": "stdout",
          "text": [
            "Model: \"model\"\n",
            "__________________________________________________________________________________________________\n",
            " Layer (type)                Output Shape                 Param #   Connected to                  \n",
            "==================================================================================================\n",
            " input_1 (InputLayer)        [(None, 9)]                  0         []                            \n",
            "                                                                                                  \n",
            " input_2 (InputLayer)        [(None, 10)]                 0         []                            \n",
            "                                                                                                  \n",
            " embedding (Embedding)       (None, 9, 300)               539700    ['input_1[0][0]']             \n",
            "                                                                                                  \n",
            " embedding_1 (Embedding)     (None, 10, 300)              542100    ['input_2[0][0]']             \n",
            "                                                                                                  \n",
            " lstm (LSTM)                 [(None, 128),                219648    ['embedding[0][0]']           \n",
            "                              (None, 128),                                                        \n",
            "                              (None, 128)]                                                        \n",
            "                                                                                                  \n",
            " lstm_1 (LSTM)               [(None, 10, 128),            219648    ['embedding_1[0][0]',         \n",
            "                              (None, 128),                           'lstm[0][1]',                \n",
            "                              (None, 128)]                           'lstm[0][2]']                \n",
            "                                                                                                  \n",
            " dense (Dense)               (None, 10, 1807)             233103    ['lstm_1[0][0]']              \n",
            "                                                                                                  \n",
            "==================================================================================================\n",
            "Total params: 1754199 (6.69 MB)\n",
            "Trainable params: 672399 (2.56 MB)\n",
            "Non-trainable params: 1081800 (4.13 MB)\n",
            "__________________________________________________________________________________________________\n"
          ]
        }
      ]
    },
    {
      "cell_type": "code",
      "source": [
        "# Modelo completo (encoder+decoder) para poder entrenar\n",
        "plot_model(model, to_file='model_plot.png', show_shapes=True, show_layer_names=True)"
      ],
      "metadata": {
        "colab": {
          "base_uri": "https://localhost:8080/",
          "height": 533
        },
        "id": "gv6rBYWo9dVO",
        "outputId": "0a343227-1316-45ea-efdf-910380325dce"
      },
      "execution_count": 28,
      "outputs": [
        {
          "output_type": "execute_result",
          "data": {
            "image/png": "[encoded data removed]",
            "text/plain": [
              "<IPython.core.display.Image object>"
            ]
          },
          "metadata": {},
          "execution_count": 28
        }
      ]
    },
    {
      "cell_type": "code",
      "source": [
        "hist = model.fit(\n",
        "    [encoder_input_sequences, decoder_input_sequences],\n",
        "    decoder_targets,\n",
        "    epochs=30,\n",
        "    validation_split=0.2)"
      ],
      "metadata": {
        "colab": {
          "base_uri": "https://localhost:8080/"
        },
        "id": "6s8vrXsWJtrh",
        "outputId": "6b984a53-c044-4477-a82e-ae155166f6a9"
      },
      "execution_count": 29,
      "outputs": [
        {
          "output_type": "stream",
          "name": "stdout",
          "text": [
            "Epoch 1/30\n",
            "151/151 [==============================] - 13s 18ms/step - loss: 2.9788 - accuracy: 0.5389 - val_loss: 2.2607 - val_accuracy: 0.6310\n",
            "Epoch 2/30\n",
            "151/151 [==============================] - 2s 11ms/step - loss: 2.0062 - accuracy: 0.6486 - val_loss: 2.0465 - val_accuracy: 0.6650\n",
            "Epoch 3/30\n",
            "151/151 [==============================] - 2s 14ms/step - loss: 1.7891 - accuracy: 0.6875 - val_loss: 1.9441 - val_accuracy: 0.6770\n",
            "Epoch 4/30\n",
            "151/151 [==============================] - 2s 12ms/step - loss: 1.6738 - accuracy: 0.7008 - val_loss: 1.8843 - val_accuracy: 0.6872\n",
            "Epoch 5/30\n",
            "151/151 [==============================] - 2s 12ms/step - loss: 1.5985 - accuracy: 0.7094 - val_loss: 1.8497 - val_accuracy: 0.6900\n",
            "Epoch 6/30\n",
            "151/151 [==============================] - 2s 11ms/step - loss: 1.5402 - accuracy: 0.7171 - val_loss: 1.8230 - val_accuracy: 0.6951\n",
            "Epoch 7/30\n",
            "151/151 [==============================] - 2s 10ms/step - loss: 1.4953 - accuracy: 0.7224 - val_loss: 1.8037 - val_accuracy: 0.6973\n",
            "Epoch 8/30\n",
            "151/151 [==============================] - 2s 11ms/step - loss: 1.4581 - accuracy: 0.7242 - val_loss: 1.7931 - val_accuracy: 0.6988\n",
            "Epoch 9/30\n",
            "151/151 [==============================] - 2s 10ms/step - loss: 1.4253 - accuracy: 0.7286 - val_loss: 1.7830 - val_accuracy: 0.7020\n",
            "Epoch 10/30\n",
            "151/151 [==============================] - 2s 14ms/step - loss: 1.3961 - accuracy: 0.7306 - val_loss: 1.7744 - val_accuracy: 0.7028\n",
            "Epoch 11/30\n",
            "151/151 [==============================] - 2s 13ms/step - loss: 1.3697 - accuracy: 0.7319 - val_loss: 1.7662 - val_accuracy: 0.7031\n",
            "Epoch 12/30\n",
            "151/151 [==============================] - 2s 11ms/step - loss: 1.3451 - accuracy: 0.7338 - val_loss: 1.7627 - val_accuracy: 0.7046\n",
            "Epoch 13/30\n",
            "151/151 [==============================] - 2s 11ms/step - loss: 1.3219 - accuracy: 0.7372 - val_loss: 1.7601 - val_accuracy: 0.7063\n",
            "Epoch 14/30\n",
            "151/151 [==============================] - 2s 10ms/step - loss: 1.2999 - accuracy: 0.7388 - val_loss: 1.7647 - val_accuracy: 0.7047\n",
            "Epoch 15/30\n",
            "151/151 [==============================] - 2s 10ms/step - loss: 1.2795 - accuracy: 0.7411 - val_loss: 1.7581 - val_accuracy: 0.7064\n",
            "Epoch 16/30\n",
            "151/151 [==============================] - 2s 10ms/step - loss: 1.2597 - accuracy: 0.7429 - val_loss: 1.7565 - val_accuracy: 0.7082\n",
            "Epoch 17/30\n",
            "151/151 [==============================] - 2s 12ms/step - loss: 1.2407 - accuracy: 0.7442 - val_loss: 1.7618 - val_accuracy: 0.7100\n",
            "Epoch 18/30\n",
            "151/151 [==============================] - 2s 13ms/step - loss: 1.2231 - accuracy: 0.7465 - val_loss: 1.7586 - val_accuracy: 0.7097\n",
            "Epoch 19/30\n",
            "151/151 [==============================] - 2s 10ms/step - loss: 1.2063 - accuracy: 0.7478 - val_loss: 1.7571 - val_accuracy: 0.7113\n",
            "Epoch 20/30\n",
            "151/151 [==============================] - 2s 10ms/step - loss: 1.1902 - accuracy: 0.7493 - val_loss: 1.7603 - val_accuracy: 0.7120\n",
            "Epoch 21/30\n",
            "151/151 [==============================] - 2s 11ms/step - loss: 1.1739 - accuracy: 0.7511 - val_loss: 1.7610 - val_accuracy: 0.7094\n",
            "Epoch 22/30\n",
            "151/151 [==============================] - 2s 11ms/step - loss: 1.1592 - accuracy: 0.7529 - val_loss: 1.7678 - val_accuracy: 0.7111\n",
            "Epoch 23/30\n",
            "151/151 [==============================] - 2s 11ms/step - loss: 1.1445 - accuracy: 0.7536 - val_loss: 1.7659 - val_accuracy: 0.7122\n",
            "Epoch 24/30\n",
            "151/151 [==============================] - 2s 11ms/step - loss: 1.1300 - accuracy: 0.7547 - val_loss: 1.7707 - val_accuracy: 0.7104\n",
            "Epoch 25/30\n",
            "151/151 [==============================] - 2s 14ms/step - loss: 1.1167 - accuracy: 0.7555 - val_loss: 1.7799 - val_accuracy: 0.7119\n",
            "Epoch 26/30\n",
            "151/151 [==============================] - 2s 11ms/step - loss: 1.1029 - accuracy: 0.7570 - val_loss: 1.7781 - val_accuracy: 0.7133\n",
            "Epoch 27/30\n",
            "151/151 [==============================] - 2s 11ms/step - loss: 1.0901 - accuracy: 0.7577 - val_loss: 1.7814 - val_accuracy: 0.7123\n",
            "Epoch 28/30\n",
            "151/151 [==============================] - 1s 10ms/step - loss: 1.0774 - accuracy: 0.7588 - val_loss: 1.7851 - val_accuracy: 0.7118\n",
            "Epoch 29/30\n",
            "151/151 [==============================] - 2s 11ms/step - loss: 1.0647 - accuracy: 0.7597 - val_loss: 1.7951 - val_accuracy: 0.7117\n",
            "Epoch 30/30\n",
            "151/151 [==============================] - 2s 11ms/step - loss: 1.0527 - accuracy: 0.7609 - val_loss: 1.7972 - val_accuracy: 0.7119\n"
          ]
        }
      ]
    },
    {
      "cell_type": "code",
      "source": [
        "import matplotlib.pyplot as plt\n",
        "import seaborn as sns\n",
        "\n",
        "# Entrenamiento\n",
        "epoch_count = range(1, len(hist.history['accuracy']) + 1)\n",
        "sns.lineplot(x=epoch_count,  y=hist.history['accuracy'], label='train')\n",
        "sns.lineplot(x=epoch_count,  y=hist.history['val_accuracy'], label='valid')\n",
        "plt.show()"
      ],
      "metadata": {
        "colab": {
          "base_uri": "https://localhost:8080/",
          "height": 430
        },
        "id": "uz-je-xPODPp",
        "outputId": "b3d6eb10-900f-4550-8b7d-3b300f2821d3"
      },
      "execution_count": 30,
      "outputs": [
        {
          "output_type": "display_data",
          "data": {
            "text/plain": [
              "<Figure size 640x480 with 1 Axes>"
            ],
            "image/png": "[encoded data removed]"
          },
          "metadata": {}
        }
      ]
    },
    {
      "cell_type": "markdown",
      "source": [
        "**obs**\n",
        "\n",
        "Se muestra un claro overfitting en el entrenamiento, pero la diferencia entre el set de entrenamiento y validación es aceptable. El accuracy aproxima en ambos casos al 70%."
      ],
      "metadata": {
        "id": "asdoKEzZRegc"
      }
    },
    {
      "cell_type": "markdown",
      "metadata": {
        "id": "Zbwn0ekDy_s2"
      },
      "source": [
        "### 5 - Inferencia\n",
        "Experimentar el funcionamiento de su modelo. Recuerde que debe realizar la inferencia de los modelos por separado de encoder y decoder."
      ]
    },
    {
      "cell_type": "code",
      "source": [
        "# Modelo solo encoder\n",
        "\n",
        "# define inference encoder\n",
        "encoder_model = Model(encoder_inputs, encoder_states)\n",
        "\n",
        "plot_model(encoder_model, to_file='encoder_plot.png', show_shapes=True, show_layer_names=True)"
      ],
      "metadata": {
        "colab": {
          "base_uri": "https://localhost:8080/",
          "height": 312
        },
        "id": "7i90l1usSZ-J",
        "outputId": "67aae196-e96a-42d0-bbff-12b0956f02d6"
      },
      "execution_count": 31,
      "outputs": [
        {
          "output_type": "execute_result",
          "data": {
            "image/png": "[encoded data removed]",
            "text/plain": [
              "<IPython.core.display.Image object>"
            ]
          },
          "metadata": {},
          "execution_count": 31
        }
      ]
    },
    {
      "cell_type": "code",
      "source": [
        "# Modelo solo decoder (para realizar inferencia)\n",
        "\n",
        "# define inference decoder\n",
        "decoder_state_input_h = Input(shape=(n_units,))\n",
        "decoder_state_input_c = Input(shape=(n_units,))\n",
        "decoder_states_inputs = [decoder_state_input_h, decoder_state_input_c]\n",
        "\n",
        "# En cada predicción habrá una sola palabra de entrada al decoder,\n",
        "# que es la realimentación de la palabra anterior\n",
        "# por lo que hay que modificar el input shape de la layer de Embedding\n",
        "decoder_inputs_single = Input(shape=(1,))\n",
        "decoder_inputs_single_x = decoder_embedding_layer(decoder_inputs_single)\n",
        "\n",
        "decoder_outputs, state_h, state_c = decoder_lstm(decoder_inputs_single_x, initial_state=decoder_states_inputs)\n",
        "decoder_states = [state_h, state_c]\n",
        "decoder_outputs = decoder_dense(decoder_outputs)\n",
        "decoder_model = Model([decoder_inputs_single] + decoder_states_inputs, [decoder_outputs] + decoder_states)\n",
        "\n",
        "plot_model(decoder_model, to_file='decoder_plot.png', show_shapes=True, show_layer_names=True)"
      ],
      "metadata": {
        "colab": {
          "base_uri": "https://localhost:8080/",
          "height": 422
        },
        "id": "ES7cbs9LSe8d",
        "outputId": "1b18c7f0-faae-4183-98f0-75c53273ca12"
      },
      "execution_count": 32,
      "outputs": [
        {
          "output_type": "execute_result",
          "data": {
            "image/png": "[encoded data removed]",
            "text/plain": [
              "<IPython.core.display.Image object>"
            ]
          },
          "metadata": {},
          "execution_count": 32
        }
      ]
    },
    {
      "cell_type": "code",
      "source": [
        "# Armar los conversores de índice a palabra:\n",
        "idx2word_input = {v:k for k, v in word2idx_inputs.items()}\n",
        "idx2word_target = {v:k for k, v in word2idx_outputs.items()}"
      ],
      "metadata": {
        "id": "kKSj8Ie0757A"
      },
      "execution_count": 33,
      "outputs": []
    },
    {
      "cell_type": "code",
      "source": [
        "word2idx_outputs['eos']"
      ],
      "metadata": {
        "colab": {
          "base_uri": "https://localhost:8080/"
        },
        "id": "BTAb-X4KT9HB",
        "outputId": "6cb20c28-e14e-4ab3-9e4c-1fab76bf27e9"
      },
      "execution_count": 34,
      "outputs": [
        {
          "output_type": "execute_result",
          "data": {
            "text/plain": [
              "1"
            ]
          },
          "metadata": {},
          "execution_count": 34
        }
      ]
    },
    {
      "cell_type": "code",
      "source": [
        "def chatbot_response(input_seq):\n",
        "    # Se transforma la sequencia de entrada a los estados \"h\" y \"c\" de la LSTM\n",
        "    # para enviar la primera vez al decoder\n",
        "    states_value = encoder_model.predict(input_seq)\n",
        "\n",
        "    # Se inicializa la secuencia de entrada al decoder como \"<sos>\"\n",
        "    target_seq = np.zeros((1, 1))\n",
        "    target_seq[0, 0] = word2idx_outputs['sos']\n",
        "\n",
        "    # Se obtiene el índice que finaliza la inferencia\n",
        "    eos = word2idx_outputs['eos']\n",
        "\n",
        "    output_sentence = []\n",
        "    for _ in range(max_out_len):\n",
        "        # Predicción del próximo elemento\n",
        "        output_tokens, h, c = decoder_model.predict([target_seq] + states_value)\n",
        "        idx = np.argmax(output_tokens[0, 0, :])\n",
        "\n",
        "        # Si es \"end of sentece <eos>\" se acaba\n",
        "        if eos == idx:\n",
        "            break\n",
        "\n",
        "        # Transformar idx a palabra\n",
        "        word = ''\n",
        "        if idx > 0:\n",
        "            word = idx2word_target[idx]\n",
        "            output_sentence.append(word)\n",
        "\n",
        "        # Actualizar los estados dada la última predicción\n",
        "        states_value = [h, c]\n",
        "\n",
        "        # Actualizar secuencia de entrada con la salida (re-alimentación)\n",
        "        target_seq[0, 0] = idx\n",
        "\n",
        "    return ' '.join(output_sentence)"
      ],
      "metadata": {
        "id": "QQy9DS4gR92o"
      },
      "execution_count": 35,
      "outputs": []
    },
    {
      "cell_type": "code",
      "source": [
        "i = np.random.choice(len(input_sentences))\n",
        "input_seq = encoder_input_sequences[i:i+1]\n",
        "output_seq = chatbot_response(input_seq)\n",
        "print('-')\n",
        "print('Input:', input_sentences[i])\n",
        "print('Response:', output_seq)"
      ],
      "metadata": {
        "colab": {
          "base_uri": "https://localhost:8080/"
        },
        "id": "0sOhJQhzSEzT",
        "outputId": "ef7c6d0c-93b4-4b66-b7fe-de800cc4f5cd"
      },
      "execution_count": 36,
      "outputs": [
        {
          "output_type": "stream",
          "name": "stdout",
          "text": [
            "1/1 [==============================] - 0s 361ms/step\n",
            "1/1 [==============================] - 0s 337ms/step\n",
            "1/1 [==============================] - 0s 20ms/step\n",
            "1/1 [==============================] - 0s 19ms/step\n",
            "1/1 [==============================] - 0s 19ms/step\n",
            "1/1 [==============================] - 0s 20ms/step\n",
            "1/1 [==============================] - 0s 20ms/step\n",
            "1/1 [==============================] - 0s 19ms/step\n",
            "1/1 [==============================] - 0s 35ms/step\n",
            "-\n",
            "Input: new\n",
            "Response: what do you do for a living\n"
          ]
        }
      ]
    },
    {
      "cell_type": "code",
      "source": [
        "while True:\n",
        "    # pedir input al usuario\n",
        "    message = input(\"\")\n",
        "    integer_seq_test = input_tokenizer.texts_to_sequences([message])[0]\n",
        "    encoder_sequence_test = pad_sequences([integer_seq_test], maxlen=max_input_len)\n",
        "    output_seq = chatbot_response(encoder_sequence_test)\n",
        "\n",
        "    print(\"Q:\", message)\n",
        "    if message == 'q':\n",
        "      print(\"bye bye :)\")\n",
        "      break\n",
        "    print('Response:', output_seq)"
      ],
      "metadata": {
        "colab": {
          "base_uri": "https://localhost:8080/"
        },
        "id": "iR1Nk_YoVdbu",
        "outputId": "7a190b98-a8b5-464c-b78e-90756a40c1dc"
      },
      "execution_count": 37,
      "outputs": [
        {
          "output_type": "stream",
          "name": "stdout",
          "text": [
            "hi there\n",
            "1/1 [==============================] - 0s 19ms/step\n",
            "1/1 [==============================] - 0s 19ms/step\n",
            "1/1 [==============================] - 0s 19ms/step\n",
            "1/1 [==============================] - 0s 20ms/step\n",
            "1/1 [==============================] - 0s 24ms/step\n",
            "1/1 [==============================] - 0s 22ms/step\n",
            "1/1 [==============================] - 0s 18ms/step\n",
            "Q: hi there\n",
            "Response: hello how are you today\n",
            "fine thank you\n",
            "1/1 [==============================] - 0s 18ms/step\n",
            "1/1 [==============================] - 0s 21ms/step\n",
            "1/1 [==============================] - 0s 24ms/step\n",
            "1/1 [==============================] - 0s 22ms/step\n",
            "1/1 [==============================] - 0s 21ms/step\n",
            "1/1 [==============================] - 0s 21ms/step\n",
            "1/1 [==============================] - 0s 21ms/step\n",
            "1/1 [==============================] - 0s 22ms/step\n",
            "1/1 [==============================] - 0s 20ms/step\n",
            "Q: fine thank you\n",
            "Response: what do you do for a living\n",
            "i study\n",
            "1/1 [==============================] - 0s 21ms/step\n",
            "1/1 [==============================] - 0s 22ms/step\n",
            "1/1 [==============================] - 0s 21ms/step\n",
            "1/1 [==============================] - 0s 23ms/step\n",
            "1/1 [==============================] - 0s 22ms/step\n",
            "1/1 [==============================] - 0s 23ms/step\n",
            "1/1 [==============================] - 0s 22ms/step\n",
            "1/1 [==============================] - 0s 23ms/step\n",
            "1/1 [==============================] - 0s 21ms/step\n",
            "Q: i study\n",
            "Response: what do you do for a living\n",
            "I work at papershop\n",
            "1/1 [==============================] - 0s 19ms/step\n",
            "1/1 [==============================] - 0s 21ms/step\n",
            "1/1 [==============================] - 0s 22ms/step\n",
            "1/1 [==============================] - 0s 21ms/step\n",
            "1/1 [==============================] - 0s 20ms/step\n",
            "1/1 [==============================] - 0s 23ms/step\n",
            "1/1 [==============================] - 0s 23ms/step\n",
            "1/1 [==============================] - 0s 19ms/step\n",
            "1/1 [==============================] - 0s 19ms/step\n",
            "Q: I work at papershop\n",
            "Response: what do you do for a living\n",
            "Do you read?\n",
            "1/1 [==============================] - 0s 19ms/step\n",
            "1/1 [==============================] - 0s 22ms/step\n",
            "1/1 [==============================] - 0s 25ms/step\n",
            "1/1 [==============================] - 0s 21ms/step\n",
            "1/1 [==============================] - 0s 22ms/step\n",
            "1/1 [==============================] - 0s 21ms/step\n",
            "Q: Do you read?\n",
            "Response: i like to read\n",
            "Do you have any pet?\n",
            "1/1 [==============================] - 0s 21ms/step\n",
            "1/1 [==============================] - 0s 23ms/step\n",
            "1/1 [==============================] - 0s 20ms/step\n",
            "1/1 [==============================] - 0s 23ms/step\n",
            "1/1 [==============================] - 0s 20ms/step\n",
            "1/1 [==============================] - 0s 22ms/step\n",
            "Q: Do you have any pet?\n",
            "Response: i am a girl\n",
            "Where are you from?\n",
            "1/1 [==============================] - 0s 20ms/step\n",
            "1/1 [==============================] - 0s 24ms/step\n",
            "1/1 [==============================] - 0s 19ms/step\n",
            "1/1 [==============================] - 0s 21ms/step\n",
            "1/1 [==============================] - 0s 19ms/step\n",
            "1/1 [==============================] - 0s 23ms/step\n",
            "Q: Where are you from?\n",
            "Response: i am a student\n",
            "What do you do?\n",
            "1/1 [==============================] - 0s 18ms/step\n",
            "1/1 [==============================] - 0s 23ms/step\n",
            "1/1 [==============================] - 0s 19ms/step\n",
            "1/1 [==============================] - 0s 19ms/step\n",
            "1/1 [==============================] - 0s 22ms/step\n",
            "1/1 [==============================] - 0s 20ms/step\n",
            "Q: What do you do?\n",
            "Response: i am a student\n",
            "Well, I love video games. What about you?\n",
            "1/1 [==============================] - 0s 19ms/step\n",
            "1/1 [==============================] - 0s 23ms/step\n",
            "1/1 [==============================] - 0s 24ms/step\n",
            "1/1 [==============================] - 0s 22ms/step\n",
            "1/1 [==============================] - 0s 23ms/step\n",
            "1/1 [==============================] - 0s 21ms/step\n",
            "Q: Well, I love video games. What about you?\n",
            "Response: i m a student\n",
            "How long have you been in the us?\n",
            "1/1 [==============================] - 0s 30ms/step\n",
            "1/1 [==============================] - 0s 34ms/step\n",
            "1/1 [==============================] - 0s 32ms/step\n",
            "1/1 [==============================] - 0s 32ms/step\n",
            "1/1 [==============================] - 0s 32ms/step\n",
            "1/1 [==============================] - 0s 34ms/step\n",
            "Q: How long have you been in the us?\n",
            "Response: i am a teacher\n",
            "I have a cat named charlie. What about you?\n",
            "1/1 [==============================] - 0s 21ms/step\n",
            "1/1 [==============================] - 0s 22ms/step\n",
            "1/1 [==============================] - 0s 27ms/step\n",
            "1/1 [==============================] - 0s 23ms/step\n",
            "1/1 [==============================] - 0s 25ms/step\n",
            "1/1 [==============================] - 0s 26ms/step\n",
            "Q: I have a cat named charlie. What about you?\n",
            "Response: i m a student\n",
            "Do you have any cat?\n",
            "1/1 [==============================] - 0s 21ms/step\n",
            "1/1 [==============================] - 0s 24ms/step\n",
            "1/1 [==============================] - 0s 21ms/step\n",
            "1/1 [==============================] - 0s 23ms/step\n",
            "1/1 [==============================] - 0s 23ms/step\n",
            "1/1 [==============================] - 0s 25ms/step\n",
            "Q: Do you have any cat?\n",
            "Response: i am a girl\n",
            "q\n",
            "1/1 [==============================] - 0s 20ms/step\n",
            "1/1 [==============================] - 0s 23ms/step\n",
            "1/1 [==============================] - 0s 24ms/step\n",
            "1/1 [==============================] - 0s 23ms/step\n",
            "1/1 [==============================] - 0s 21ms/step\n",
            "1/1 [==============================] - 0s 22ms/step\n",
            "Q: q\n",
            "bye bye :)\n"
          ]
        }
      ]
    },
    {
      "cell_type": "markdown",
      "source": [
        "### Armamos respuestas con beam search"
      ],
      "metadata": {
        "id": "S30VelveXfYD"
      }
    },
    {
      "cell_type": "code",
      "source": [
        "def chatbot_response_beam_search(input_seq, beam_width=3):\n",
        "    # Obtener los estados iniciales del codificador\n",
        "    states_value = encoder_model.predict(input_seq)\n",
        "\n",
        "    # Inicializar la secuencia de entrada del decodificador como \"<sos>\"\n",
        "    target_seq = np.zeros((1, 1))\n",
        "    target_seq[0, 0] = word2idx_outputs['sos']\n",
        "\n",
        "    # Obtener el índice que indica el final de la inferencia\n",
        "    eos = word2idx_outputs['eos']\n",
        "\n",
        "    # Inicializar la lista de secuencias candidatas con puntaje\n",
        "    candidate_sequences = [([], 1.0)]\n",
        "\n",
        "    while True:\n",
        "        # Almacenar las nuevas secuencias candidatas\n",
        "        new_candidates = []\n",
        "\n",
        "        for seq, score in candidate_sequences:\n",
        "            # Predecir el próximo elemento para la secuencia actual\n",
        "            output_tokens, h, c = decoder_model.predict([target_seq] + states_value)\n",
        "\n",
        "            # Obtener las primeras 'beam_width' palabras más probables\n",
        "            top_k_indices = np.argpartition(output_tokens[0, 0, :], -beam_width)[-beam_width:]\n",
        "\n",
        "            for idx in top_k_indices:\n",
        "                # Si la palabra predicha es \"<eos>\", la agregamos a las candidatas y seguimos\n",
        "                if idx == eos:\n",
        "                    new_seq = seq + [idx]\n",
        "                    new_candidates.append((new_seq, score))\n",
        "                    continue\n",
        "\n",
        "                # Calcular el nuevo puntaje\n",
        "                new_score = score * output_tokens[0, 0, idx]\n",
        "\n",
        "                # Actualizar los estados y la secuencia de entrada para la siguiente iteración\n",
        "                new_states_value = [h, c]\n",
        "                new_target_seq = np.zeros((1, 1))\n",
        "                new_target_seq[0, 0] = idx\n",
        "\n",
        "                # Agregar la nueva secuencia candidata a la lista\n",
        "                new_seq = seq + [idx]\n",
        "                new_candidates.append((new_seq, new_score))\n",
        "\n",
        "        # Ordenar las secuencias candidatas por puntaje\n",
        "        candidate_sequences = sorted(new_candidates, key=lambda x: x[1], reverse=True)[:beam_width]\n",
        "\n",
        "        # Actualizar estados y secuencia de entrada para la siguiente iteración\n",
        "        states_value = new_states_value\n",
        "        target_seq[0, 0] = candidate_sequences[0][0][-1]  # Tomar la última palabra de la mejor secuencia\n",
        "\n",
        "        # Verificar si todas las secuencias candidatas terminan con \"<eos>\"\n",
        "        if all(seq[-1] == eos for seq, _ in candidate_sequences):\n",
        "            break\n",
        "\n",
        "    # Retornar la mejor secuencia generada (la primera en la lista)\n",
        "    best_sequence = candidate_sequences[0][0]\n",
        "    output_sentence = [idx2word_target[idx] for idx in best_sequence if idx != eos]\n",
        "\n",
        "    return ' '.join(output_sentence)"
      ],
      "metadata": {
        "id": "OkmCQU3VCesi"
      },
      "execution_count": 38,
      "outputs": []
    },
    {
      "cell_type": "code",
      "source": [
        "i = np.random.choice(len(input_sentences))\n",
        "input_seq = encoder_input_sequences[i:i+1]\n",
        "output_seq = chatbot_response_beam_search(input_seq)\n",
        "print('-')\n",
        "print('Input:', input_sentences[i])\n",
        "print('Response:', output_seq)"
      ],
      "metadata": {
        "colab": {
          "base_uri": "https://localhost:8080/"
        },
        "id": "Iza7ApCNzwLK",
        "outputId": "7324f527-8794-478a-9abe-5e9160dea943"
      },
      "execution_count": 39,
      "outputs": [
        {
          "output_type": "stream",
          "name": "stdout",
          "text": [
            "1/1 [==============================] - 0s 20ms/step\n",
            "1/1 [==============================] - 0s 25ms/step\n",
            "1/1 [==============================] - 0s 25ms/step\n",
            "1/1 [==============================] - 0s 25ms/step\n",
            "1/1 [==============================] - 0s 23ms/step\n",
            "1/1 [==============================] - 0s 24ms/step\n",
            "1/1 [==============================] - 0s 23ms/step\n",
            "1/1 [==============================] - 0s 22ms/step\n",
            "1/1 [==============================] - 0s 26ms/step\n",
            "1/1 [==============================] - 0s 24ms/step\n",
            "1/1 [==============================] - 0s 23ms/step\n",
            "1/1 [==============================] - 0s 25ms/step\n",
            "1/1 [==============================] - 0s 23ms/step\n",
            "1/1 [==============================] - 0s 23ms/step\n",
            "-\n",
            "Input: pizza\n",
            "Response: i love to read\n"
          ]
        }
      ]
    },
    {
      "cell_type": "code",
      "source": [
        "while True:\n",
        "    # pedir input al usuario\n",
        "    message = input(\"\")\n",
        "    integer_seq_test = input_tokenizer.texts_to_sequences([message])[0]\n",
        "    encoder_sequence_test = pad_sequences([integer_seq_test], maxlen=max_input_len)\n",
        "    output_seq = chatbot_response_beam_search(encoder_sequence_test)\n",
        "\n",
        "    print(\"Q:\", message)\n",
        "    if message == 'q':\n",
        "      print(\"bye bye :)\")\n",
        "      break\n",
        "    print('Response:', output_seq)"
      ],
      "metadata": {
        "colab": {
          "base_uri": "https://localhost:8080/"
        },
        "id": "HgCJ2n8lHG35",
        "outputId": "0163a371-1713-4d78-cb4b-c987b2502224"
      },
      "execution_count": 40,
      "outputs": [
        {
          "output_type": "stream",
          "name": "stdout",
          "text": [
            "hi there\n",
            "1/1 [==============================] - 0s 25ms/step\n",
            "1/1 [==============================] - 0s 27ms/step\n",
            "1/1 [==============================] - 0s 27ms/step\n",
            "1/1 [==============================] - 0s 25ms/step\n",
            "1/1 [==============================] - 0s 27ms/step\n",
            "1/1 [==============================] - 0s 25ms/step\n",
            "1/1 [==============================] - 0s 23ms/step\n",
            "1/1 [==============================] - 0s 24ms/step\n",
            "1/1 [==============================] - 0s 25ms/step\n",
            "1/1 [==============================] - 0s 24ms/step\n",
            "1/1 [==============================] - 0s 24ms/step\n",
            "Q: hi there\n",
            "Response: hello\n",
            "what do you do for a living?\n",
            "1/1 [==============================] - 0s 21ms/step\n",
            "1/1 [==============================] - 0s 25ms/step\n",
            "1/1 [==============================] - 0s 27ms/step\n",
            "1/1 [==============================] - 0s 25ms/step\n",
            "1/1 [==============================] - 0s 21ms/step\n",
            "1/1 [==============================] - 0s 22ms/step\n",
            "1/1 [==============================] - 0s 25ms/step\n",
            "1/1 [==============================] - 0s 25ms/step\n",
            "1/1 [==============================] - 0s 27ms/step\n",
            "1/1 [==============================] - 0s 24ms/step\n",
            "1/1 [==============================] - 0s 25ms/step\n",
            "1/1 [==============================] - 0s 23ms/step\n",
            "1/1 [==============================] - 0s 24ms/step\n",
            "1/1 [==============================] - 0s 24ms/step\n",
            "Q: what do you do for a living?\n",
            "Response: i am a student\n",
            "Do you read?\n",
            "1/1 [==============================] - 0s 22ms/step\n",
            "1/1 [==============================] - 0s 23ms/step\n",
            "1/1 [==============================] - 0s 22ms/step\n",
            "1/1 [==============================] - 0s 22ms/step\n",
            "1/1 [==============================] - 0s 21ms/step\n",
            "1/1 [==============================] - 0s 24ms/step\n",
            "1/1 [==============================] - 0s 23ms/step\n",
            "1/1 [==============================] - 0s 21ms/step\n",
            "1/1 [==============================] - 0s 22ms/step\n",
            "1/1 [==============================] - 0s 23ms/step\n",
            "1/1 [==============================] - 0s 24ms/step\n",
            "1/1 [==============================] - 0s 25ms/step\n",
            "1/1 [==============================] - 0s 23ms/step\n",
            "1/1 [==============================] - 0s 21ms/step\n",
            "Q: Do you read?\n",
            "Response: i like to read\n",
            "Do you have any pet?\n",
            "1/1 [==============================] - 0s 19ms/step\n",
            "1/1 [==============================] - 0s 23ms/step\n",
            "1/1 [==============================] - 0s 23ms/step\n",
            "1/1 [==============================] - 0s 28ms/step\n",
            "1/1 [==============================] - 0s 28ms/step\n",
            "1/1 [==============================] - 0s 27ms/step\n",
            "1/1 [==============================] - 0s 25ms/step\n",
            "1/1 [==============================] - 0s 23ms/step\n",
            "1/1 [==============================] - 0s 23ms/step\n",
            "1/1 [==============================] - 0s 23ms/step\n",
            "1/1 [==============================] - 0s 21ms/step\n",
            "1/1 [==============================] - 0s 27ms/step\n",
            "1/1 [==============================] - 0s 24ms/step\n",
            "1/1 [==============================] - 0s 21ms/step\n",
            "Q: Do you have any pet?\n",
            "Response: i am a girl\n",
            "Where are you from?\n",
            "1/1 [==============================] - 0s 18ms/step\n",
            "1/1 [==============================] - 0s 22ms/step\n",
            "1/1 [==============================] - 0s 23ms/step\n",
            "1/1 [==============================] - 0s 22ms/step\n",
            "1/1 [==============================] - 0s 22ms/step\n",
            "1/1 [==============================] - 0s 23ms/step\n",
            "1/1 [==============================] - 0s 21ms/step\n",
            "1/1 [==============================] - 0s 21ms/step\n",
            "1/1 [==============================] - 0s 24ms/step\n",
            "1/1 [==============================] - 0s 20ms/step\n",
            "1/1 [==============================] - 0s 20ms/step\n",
            "1/1 [==============================] - 0s 19ms/step\n",
            "1/1 [==============================] - 0s 19ms/step\n",
            "1/1 [==============================] - 0s 22ms/step\n",
            "Q: Where are you from?\n",
            "Response: i am a student\n",
            "I have a cat named charlie. What about you?\n",
            "1/1 [==============================] - 0s 27ms/step\n",
            "1/1 [==============================] - 0s 30ms/step\n",
            "1/1 [==============================] - 0s 33ms/step\n",
            "1/1 [==============================] - 0s 30ms/step\n",
            "1/1 [==============================] - 0s 47ms/step\n",
            "Q: I have a cat named charlie. What about you?\n",
            "Response: \n",
            "I have a cat named charlie. What about you?\n",
            "1/1 [==============================] - 0s 18ms/step\n",
            "1/1 [==============================] - 0s 20ms/step\n",
            "1/1 [==============================] - 0s 19ms/step\n",
            "1/1 [==============================] - 0s 20ms/step\n",
            "1/1 [==============================] - 0s 30ms/step\n",
            "Q: I have a cat named charlie. What about you?\n",
            "Response: \n",
            "Do you have a cat?\n",
            "1/1 [==============================] - 0s 18ms/step\n",
            "1/1 [==============================] - 0s 19ms/step\n",
            "1/1 [==============================] - 0s 19ms/step\n",
            "1/1 [==============================] - 0s 22ms/step\n",
            "1/1 [==============================] - 0s 24ms/step\n",
            "1/1 [==============================] - 0s 20ms/step\n",
            "1/1 [==============================] - 0s 22ms/step\n",
            "1/1 [==============================] - 0s 21ms/step\n",
            "1/1 [==============================] - 0s 20ms/step\n",
            "1/1 [==============================] - 0s 20ms/step\n",
            "1/1 [==============================] - 0s 21ms/step\n",
            "1/1 [==============================] - 0s 21ms/step\n",
            "1/1 [==============================] - 0s 22ms/step\n",
            "1/1 [==============================] - 0s 20ms/step\n",
            "Q: Do you have a cat?\n",
            "Response: i am a girl\n",
            "Do you have any pets?\n",
            "1/1 [==============================] - 0s 19ms/step\n",
            "1/1 [==============================] - 0s 20ms/step\n",
            "1/1 [==============================] - 0s 20ms/step\n",
            "1/1 [==============================] - 0s 21ms/step\n",
            "1/1 [==============================] - 0s 19ms/step\n",
            "1/1 [==============================] - 0s 22ms/step\n",
            "1/1 [==============================] - 0s 23ms/step\n",
            "1/1 [==============================] - 0s 21ms/step\n",
            "1/1 [==============================] - 0s 21ms/step\n",
            "1/1 [==============================] - 0s 20ms/step\n",
            "1/1 [==============================] - 0s 20ms/step\n",
            "1/1 [==============================] - 0s 21ms/step\n",
            "1/1 [==============================] - 0s 21ms/step\n",
            "1/1 [==============================] - 0s 19ms/step\n",
            "Q: Do you have any pets?\n",
            "Response: i am a girl\n",
            "What is your profession?\n",
            "1/1 [==============================] - 0s 19ms/step\n",
            "1/1 [==============================] - 0s 21ms/step\n",
            "1/1 [==============================] - 0s 20ms/step\n",
            "1/1 [==============================] - 0s 22ms/step\n",
            "1/1 [==============================] - 0s 21ms/step\n",
            "1/1 [==============================] - 0s 20ms/step\n",
            "1/1 [==============================] - 0s 24ms/step\n",
            "1/1 [==============================] - 0s 21ms/step\n",
            "1/1 [==============================] - 0s 24ms/step\n",
            "1/1 [==============================] - 0s 21ms/step\n",
            "1/1 [==============================] - 0s 22ms/step\n",
            "1/1 [==============================] - 0s 20ms/step\n",
            "1/1 [==============================] - 0s 20ms/step\n",
            "1/1 [==============================] - 0s 21ms/step\n",
            "1/1 [==============================] - 0s 22ms/step\n",
            "1/1 [==============================] - 0s 21ms/step\n",
            "1/1 [==============================] - 0s 23ms/step\n",
            "1/1 [==============================] - 0s 21ms/step\n",
            "1/1 [==============================] - 0s 20ms/step\n",
            "1/1 [==============================] - 0s 25ms/step\n",
            "Q: What is your profession?\n",
            "Response: i like to play video\n",
            "q\n",
            "1/1 [==============================] - 0s 17ms/step\n",
            "1/1 [==============================] - 0s 20ms/step\n",
            "1/1 [==============================] - 0s 27ms/step\n",
            "1/1 [==============================] - 0s 20ms/step\n",
            "1/1 [==============================] - 0s 23ms/step\n",
            "1/1 [==============================] - 0s 20ms/step\n",
            "1/1 [==============================] - 0s 19ms/step\n",
            "1/1 [==============================] - 0s 21ms/step\n",
            "1/1 [==============================] - 0s 20ms/step\n",
            "1/1 [==============================] - 0s 22ms/step\n",
            "1/1 [==============================] - 0s 21ms/step\n",
            "1/1 [==============================] - 0s 19ms/step\n",
            "1/1 [==============================] - 0s 22ms/step\n",
            "1/1 [==============================] - 0s 20ms/step\n",
            "Q: q\n",
            "bye bye :)\n"
          ]
        }
      ]
    },
    {
      "cell_type": "markdown",
      "source": [
        "**Analisis**\n",
        "\n",
        "El bot QA que se construyó a partir de la arquitectura encoder-decoder con seq2seq, usando una LSTM y embeddings preentrenados con FastText. Con esto, se puede decir que el modelo tuvo un rendimiento aceptable con un accuracy de 70%.\n",
        "\n",
        "Entre las pruebas que se realizaron se utilizarón dos formas de buscar las mejores respuestas, entre ellas se utilizó greedy search y beam search.\n",
        "\n",
        "Con ambos algoritmos se obtuvieron similitudes en las respuestas del bot. Ejemplo:\n",
        "\n",
        "Greedy Search:\n",
        "\n",
        "Q: Do you read?\n",
        "\n",
        "Response: i like to read\n",
        "\n",
        "o\n",
        "\n",
        "Q: hi there\n",
        "\n",
        "Response: hello how are you today\n",
        "\n",
        "Beam Search:\n",
        "\n",
        "Q: Do you read?\n",
        "\n",
        "Response: i like to read\n",
        "\n",
        "o\n",
        "\n",
        "Q: hi there\n",
        "\n",
        "Response: hello\n",
        "\n",
        "Con el overfitting que se obtuvo durante el entrenamiento y el accuracy de 70%, fueron los causantes del error que se puede apreciar en las respuestas dadas por el bot."
      ],
      "metadata": {
        "id": "HaIGOytNLxva"
      }
    }
  ],
  "metadata": {
    "colab": {
      "provenance": [],
      "gpuType": "T4"
    },
    "kernelspec": {
      "display_name": "Python 3",
      "name": "python3"
    },
    "language_info": {
      "name": "python",
      "version": "3.10.6"
    },
    "vscode": {
      "interpreter": {
        "hash": "916dbcbb3f70747c44a77c7bcd40155683ae19c65e1c03b4aa3499c5328201f1"
      }
    },
    "accelerator": "GPU"
  },
  "nbformat": 4,
  "nbformat_minor": 0
}